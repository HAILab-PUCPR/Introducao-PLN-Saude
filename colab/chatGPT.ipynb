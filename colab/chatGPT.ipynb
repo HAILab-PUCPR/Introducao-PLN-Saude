{
  "nbformat": 4,
  "nbformat_minor": 0,
  "metadata": {
    "colab": {
      "provenance": []
    },
    "kernelspec": {
      "name": "python3",
      "display_name": "Python 3"
    },
    "language_info": {
      "name": "python"
    }
  },
  "cells": [
    {
      "cell_type": "markdown",
      "source": [
        "# ChatGPT\n",
        "\n",
        "[ChatGPT](https://chat.openai.com/) é um sistema de diálogo desenvolvido pela empresa OpenAI, que utiliza modelo de linguagem GPT-3 treinado em uma ampla variedade de dados.\n",
        "\n",
        "Na área clínica, o chatGPT pode ser utilizado para responder perguntas sobre sintomas, doenças, tratamentos comuns, estilo de vida saudável e muito mais. Atenção: a finalidade é fornecer informações educativas e orientações gerais, e não substituir a consulta com um profissional de saúde qualificado.\n",
        "\n",
        "Neste tutorial, vamos ver como chamar o chatGPT através de API, para realizar a tarefa de **Reconhecimento de entidades nomeadas (NER)** para extrais conceitos clínicos relevantes em textos da área da saúde.\n",
        "\n",
        "Vamos executar tarefas:\n",
        "\n",
        "1- ***Zero-shot***: cenário em que um modelo é capaz de realizar uma tarefa sem treinamento prévio específico para essa tarefa, usando apenas informações gerais sobre o problema.\n",
        "\n",
        "2- ***Few-shot***: cenário em que um modelo recebe um pequeno número de exemplos ou instruções de treinamento para uma determinada tarefa e é capaz de generalizar e realizar a tarefa com base nessas informações limitadas.\n",
        "\n",
        "Leitura recomendada: https://openai.com/research/language-models-are-few-shot-learners"
      ],
      "metadata": {
        "id": "MndHWdxnicy7"
      }
    },
    {
      "cell_type": "markdown",
      "source": [
        "### Adquirindo a *API Key*\n",
        "\n",
        "O primeiro passo é adquirir a* API Key* para poder usar a API do chatGPT. Para isso, execute os passos:\n",
        "\n",
        "1 - Cadastro no site da openai e confirmação do número do telefone: https://openai.com/\n",
        "\n",
        "2 - Após realizar o cadastro, se autentique e acesse o botão \"API\"\n",
        "\n",
        "3 - No canto superior direito, clique no ícone para acessar sua área administrativa e acesse \"*View API keys*\"\n",
        "\n",
        "4 - Clique em \"*Create new secret key*\"\n",
        "\n",
        "5 - Copie a chave criada e utilize aqui, substituindo \"API_KEY\"\n",
        "\n",
        "OBSERVAÇÂO: Confira aqui os limites de uso: https://platform.openai.com/account/rate-limits"
      ],
      "metadata": {
        "id": "PHhXO6y9sKFy"
      }
    },
    {
      "cell_type": "markdown",
      "source": [
        "### Instalando a bilbioteca necessária\n",
        "\n",
        "Vamos usar a biblioteca `openai` para enviar e receber as requisições para o chatGPT. Primeiramente, vamos instalar aqui no nosso ambiente do Colab."
      ],
      "metadata": {
        "id": "joAJa_x2tkea"
      }
    },
    {
      "cell_type": "code",
      "source": [
        "!pip install openai\n"
      ],
      "metadata": {
        "colab": {
          "base_uri": "https://localhost:8080/"
        },
        "id": "Fszv4g6TjAVS",
        "outputId": "e3476017-ab4b-4864-e229-dbabcdac4f05"
      },
      "execution_count": null,
      "outputs": [
        {
          "output_type": "stream",
          "name": "stdout",
          "text": [
            "Collecting openai\n",
            "  Downloading openai-0.27.8-py3-none-any.whl (73 kB)\n",
            "\u001b[?25l     \u001b[90m━━━━━━━━━━━━━━━━━━━━━━━━━━━━━━━━━━━━━━━━\u001b[0m \u001b[32m0.0/73.6 kB\u001b[0m \u001b[31m?\u001b[0m eta \u001b[36m-:--:--\u001b[0m\r\u001b[2K     \u001b[90m━━━━━━━━━━━━━━━━━━━━━━━━━━━━━━━━━━━━━━━━\u001b[0m \u001b[32m73.6/73.6 kB\u001b[0m \u001b[31m4.7 MB/s\u001b[0m eta \u001b[36m0:00:00\u001b[0m\n",
            "\u001b[?25hRequirement already satisfied: requests>=2.20 in /usr/local/lib/python3.10/dist-packages (from openai) (2.27.1)\n",
            "Requirement already satisfied: tqdm in /usr/local/lib/python3.10/dist-packages (from openai) (4.65.0)\n",
            "Requirement already satisfied: aiohttp in /usr/local/lib/python3.10/dist-packages (from openai) (3.8.4)\n",
            "Requirement already satisfied: urllib3<1.27,>=1.21.1 in /usr/local/lib/python3.10/dist-packages (from requests>=2.20->openai) (1.26.16)\n",
            "Requirement already satisfied: certifi>=2017.4.17 in /usr/local/lib/python3.10/dist-packages (from requests>=2.20->openai) (2023.5.7)\n",
            "Requirement already satisfied: charset-normalizer~=2.0.0 in /usr/local/lib/python3.10/dist-packages (from requests>=2.20->openai) (2.0.12)\n",
            "Requirement already satisfied: idna<4,>=2.5 in /usr/local/lib/python3.10/dist-packages (from requests>=2.20->openai) (3.4)\n",
            "Requirement already satisfied: attrs>=17.3.0 in /usr/local/lib/python3.10/dist-packages (from aiohttp->openai) (23.1.0)\n",
            "Requirement already satisfied: multidict<7.0,>=4.5 in /usr/local/lib/python3.10/dist-packages (from aiohttp->openai) (6.0.4)\n",
            "Requirement already satisfied: async-timeout<5.0,>=4.0.0a3 in /usr/local/lib/python3.10/dist-packages (from aiohttp->openai) (4.0.2)\n",
            "Requirement already satisfied: yarl<2.0,>=1.0 in /usr/local/lib/python3.10/dist-packages (from aiohttp->openai) (1.9.2)\n",
            "Requirement already satisfied: frozenlist>=1.1.1 in /usr/local/lib/python3.10/dist-packages (from aiohttp->openai) (1.3.3)\n",
            "Requirement already satisfied: aiosignal>=1.1.2 in /usr/local/lib/python3.10/dist-packages (from aiohttp->openai) (1.3.1)\n",
            "Installing collected packages: openai\n",
            "Successfully installed openai-0.27.8\n"
          ]
        }
      ]
    },
    {
      "cell_type": "markdown",
      "source": [
        "Agora já podemos usar a biblioteca. Substitua *\"API_KEY\"* pela chave que você gerou.\n",
        "\n",
        "Vamos criar um método `askAI` que recebe o texto de entrada (*\"prompt\"*), chama o modelo GPT-3 (*\"text-davinci-003\"*), recebe a resposta e printa na tela."
      ],
      "metadata": {
        "id": "vDKAPY4mt6z6"
      }
    },
    {
      "cell_type": "code",
      "source": [
        "import openai\n",
        "\n",
        "##enter your API key here, available in the Personal > View API keys on the openai website\n",
        "secret_key = \"API_KEY\"\n",
        "\n",
        "openai.api_key = secret_key\n"
      ],
      "metadata": {
        "id": "YbrJVtmNilnT"
      },
      "execution_count": null,
      "outputs": []
    },
    {
      "cell_type": "code",
      "source": [
        "def askAI(prom):\n",
        "    response = openai.Completion.create(\n",
        "      model=\"text-davinci-003\",\n",
        "      prompt=prom,\n",
        "      temperature=0,\n",
        "      max_tokens=1000,\n",
        "      top_p=1.0,\n",
        "      frequency_penalty=0.0,\n",
        "      presence_penalty=0.0)\n",
        "\n",
        "    print(response['choices'][0]['text'])\n"
      ],
      "metadata": {
        "id": "I_yKgdmajHvC"
      },
      "execution_count": null,
      "outputs": []
    },
    {
      "cell_type": "markdown",
      "source": [
        "Agora vamos setar duas frases clínicas (fictícias) como exemplo, para usarmos no modelo."
      ],
      "metadata": {
        "id": "EFQOiqZAud15"
      }
    },
    {
      "cell_type": "code",
      "source": [
        "frase1=\"Paciente com dispneia importante aos esforços, sente dor tipo peso no peito no esforço. Recebeu tratamento com nitroglicerina sublingual e apresentou melhora.\"\n",
        "frase2=\"Discreto edema mmii pricn a esquerda. Dor a movimentação do torax, nega palpitação. Em uso de insulina nph, metformina, sinvastatina 40mg 2 cp, clopidogrel 75mg.\""
      ],
      "metadata": {
        "id": "lcYJXMrNpNTS"
      },
      "execution_count": null,
      "outputs": []
    },
    {
      "cell_type": "markdown",
      "source": [
        "## Zero-shot\n",
        "\n",
        "Vamos pedir pro chatGPT extrair as entidades que ele achar relevante nessas frases. Repare que não definimos quais entidades nos interessa, deixamos a cargo do modelo.\n",
        "\n",
        "Não vamos realizar nenhum treinamento nem enviar nenhum exemplo para ele."
      ],
      "metadata": {
        "id": "RW6GtE_2ukcZ"
      }
    },
    {
      "cell_type": "code",
      "source": [
        "prompt =f\"Extraia as entidades nomeadas da sentença:  {frase1}\"\n",
        "print(frase1)\n",
        "askAI(prompt)"
      ],
      "metadata": {
        "colab": {
          "base_uri": "https://localhost:8080/"
        },
        "id": "Ow8d04nZoVzK",
        "outputId": "2c0b7602-2f01-4f50-8155-ae4f845535db"
      },
      "execution_count": null,
      "outputs": [
        {
          "output_type": "stream",
          "name": "stdout",
          "text": [
            "Paciente com dispneia importante aos esforços, sente dor tipo peso no peito no esforço. Recebeu tratamento com nitroglicerina sublingual e apresentou melhora.\n",
            "\n",
            "\n",
            "- Paciente \n",
            "- Dispneia \n",
            "- Dor \n",
            "- Peso \n",
            "- Peito \n",
            "- Esforço \n",
            "- Nitroglicerina \n",
            "- Sublingual \n",
            "- Melhora\n"
          ]
        }
      ]
    },
    {
      "cell_type": "code",
      "source": [
        "prompt =f\"Extraia as entidades nomeadas da sentença:  {frase2}\"\n",
        "print(frase2)\n",
        "askAI(prompt)"
      ],
      "metadata": {
        "colab": {
          "base_uri": "https://localhost:8080/"
        },
        "id": "qNzXqwmEpfQD",
        "outputId": "df1a6f17-7e05-49fd-cb71-8604304031c3"
      },
      "execution_count": null,
      "outputs": [
        {
          "output_type": "stream",
          "name": "stdout",
          "text": [
            "Discreto edema mmii pricn a esquerda. Dor a movimentação do torax, nega palpitação. Em uso de insulina nph, metformina, sinvastatina 40mg 2 cp, clopidogrel 75mg.\n",
            "\n",
            "\n",
            "- Insulina NPH\n",
            "- Metformina\n",
            "- Sinvastatina\n",
            "- Clopidogrel\n"
          ]
        }
      ]
    },
    {
      "cell_type": "markdown",
      "source": [
        "Mesmo sem ter especificado o que queríamos, ele conseguiu trazer informações interessantes na área médica.\n",
        "\n",
        "Agora vamos especificar o que queremos que ele extraia: problemas, tratamentos,anatomia e testes."
      ],
      "metadata": {
        "id": "AS6GnHsVu_9h"
      }
    },
    {
      "cell_type": "code",
      "source": [
        "prompt =f\"Extraia os conceitos de problemas, tratamentos e anatomia e testes da sentença:  {frase1}\"\n",
        "print(frase1)\n",
        "askAI(prompt)"
      ],
      "metadata": {
        "colab": {
          "base_uri": "https://localhost:8080/"
        },
        "id": "mLFqFuVyiu2L",
        "outputId": "4b0d676b-c34d-4786-a728-559a89b740b8"
      },
      "execution_count": null,
      "outputs": [
        {
          "output_type": "stream",
          "name": "stdout",
          "text": [
            "Paciente com dispneia importante aos esforços, sente dor tipo peso no peito no esforço. Recebeu tratamento com nitroglicerina sublingual e apresentou melhora.\n",
            "\n",
            "\n",
            "Problema: Dispneia aos esforços, dor tipo peso no peito no esforço.\n",
            "\n",
            "Tratamento: Nitroglicerina sublingual.\n",
            "\n",
            "Anatomia: Peito.\n",
            "\n",
            "Testes: Não especificado.\n"
          ]
        }
      ]
    },
    {
      "cell_type": "code",
      "source": [
        "prompt =f\"Extraia os conceitos de problemas, tratamentos, anatomia e testes da sentença:  {frase2}\"\n",
        "print(frase2)\n",
        "askAI(prompt)"
      ],
      "metadata": {
        "colab": {
          "base_uri": "https://localhost:8080/"
        },
        "id": "3dVcDilJpika",
        "outputId": "a50602c9-2b31-45c7-f27c-503eb20093b8"
      },
      "execution_count": null,
      "outputs": [
        {
          "output_type": "stream",
          "name": "stdout",
          "text": [
            "Discreto edema mmii pricn a esquerda. Dor a movimentação do torax, nega palpitação. Em uso de insulina nph, metformina, sinvastatina 40mg 2 cp, clopidogrel 75mg.\n",
            "\n",
            "\n",
            "Problema: Discreto edema mmii pricn a esquerda. Dor a movimentação do torax.\n",
            "\n",
            "Tratamento: Uso de insulina nph, metformina, sinvastatina 40mg 2 cp, clopidogrel 75mg.\n",
            "\n",
            "Anatomia: mmii pricn a esquerda.\n",
            "\n",
            "Testes: Palpitação.\n"
          ]
        }
      ]
    },
    {
      "cell_type": "markdown",
      "source": [
        "Agora ele já trouxe informações clínicas relevantes para nós."
      ],
      "metadata": {
        "id": "dm0vBvcCva6i"
      }
    },
    {
      "cell_type": "markdown",
      "source": [
        "## Few-shot\n",
        "\n",
        "Na sequencia, vamos ver como fazer um leve treinamento ensinando o que queremos que ele extraia, mas com apenas 5 exemplos de entrada.\n",
        "\n",
        "Para isso, existe um formato específico para usar via *prompt*. Um exemplo seria:\n",
        "\n",
        "```\n",
        "prompt = \"\"\"Extraia os conceitos da sentença\n",
        "\n",
        "Sentença: Ecocardio e lab .\n",
        "Problema: nenhum\n",
        "Teste: Ecocardio, lab\n",
        "Tratamento: nenhum\n",
        "Anatomia: nenhum\n",
        "###\n",
        "Sentença: angioplastia , implante de marcapasso ( pacte assintomatico , ecg de repouso com bav de 2 grau mobitz 2 ) , cat em agosto desse ano .\n",
        "Problema: bav de 2 grau mobitz 2\n",
        "Teste: ecg de repouso, cat\n",
        "Tratamento: angioplastia, marcapasso\n",
        "Anatomia: nenhum\n",
        "###\n",
        "Sentença: discreto edema mmii pricn a esquerda. nega palpitação.\"\"\"\n",
        "\n",
        "```\n",
        "\n",
        "onde na primeira frase, indicamos o que queremos que seja executado. Quebramos a linha e enviamos a sentença de exemplo seguida com as entidades que queremos extrair, separando cada instância de treinamento com *###*.\n",
        "\n",
        "A última sentença é a que queremos que seja realizada a inferência.\n",
        "\n",
        "Vamos testar com as nossas frases de exemplo."
      ],
      "metadata": {
        "id": "Rb566c_ivfmx"
      }
    },
    {
      "cell_type": "code",
      "source": [
        "prompt =f\"\"\"Extraia os conceitos da sentença:\n",
        "\n",
        "Sentença: c # cintilografia miocardica para avaliar angina.\n",
        "Problema: angina\n",
        "Teste: cintilografia miocardica, avaliar\n",
        "Tratamento: nenhum\n",
        "Anatomia: miocardica\n",
        "###\n",
        "Sentença: Plastia Mitral ( Insuficiencia ) , CRM Saf - 2Mg e e Saf - 3MG ).\n",
        "Problema: Insuficiencia\n",
        "Teste: nenhum\n",
        "Tratamento: Plastia Mitral, CRM\n",
        "Anatomia: Mitral\n",
        "###\n",
        "Sentença: Uso : AAS 100 - 1xd ; Metoprolol 25 - 1xd ; FSM - 1xd ; Levotiroxina 175 - 1xd ; Sinva 40 - 1xd ; Fluoxetina 20 - 1xd.\n",
        "Problema: nenhum\n",
        "Teste: nenhum\n",
        "Tratamento: AAS 100, Metoprolol 25, FSM, Levotiroxina 175, Sinva 40, Fluoxetina 20\n",
        "Anatomia: nenhum\n",
        "###\n",
        "Sentença: Refere melhora da dispneia depois da cx porem mantem aos mdoeardos - leves esforço.\n",
        "Problema: dispneia, mdoeardos - leves esforço\n",
        "Teste: nenhum\n",
        "Tratamento: cx\n",
        "Anatomia: nenhum\n",
        "###\n",
        "Sentença: Discreto edema mmii pricn a esquerda, dor no peito.\n",
        "Problema: Discreto edema mmii pricn a esquerda\n",
        "Teste: nenhum\n",
        "Tratamento: nenhum\n",
        "Anatomia: mmii, peito\n",
        "### Sentença: {frase1}\"\"\"\n",
        "print(frase1)\n",
        "askAI(prompt)\n"
      ],
      "metadata": {
        "colab": {
          "base_uri": "https://localhost:8080/"
        },
        "id": "KUSGrD-AvwKi",
        "outputId": "613a7b9a-3ec3-4c48-80fc-1884d1df9090"
      },
      "execution_count": null,
      "outputs": [
        {
          "output_type": "stream",
          "name": "stdout",
          "text": [
            "Paciente com dispneia importante aos esforços, sente dor tipo peso no peito no esforço. Recebeu tratamento com nitroglicerina sublingual e apresentou melhora.\n",
            "\n",
            "Problema: dispneia importante aos esforços, dor tipo peso no peito\n",
            "Teste: nenhum\n",
            "Tratamento: nitroglicerina sublingual\n",
            "Anatomia: peito\n"
          ]
        }
      ]
    },
    {
      "cell_type": "code",
      "source": [
        "prompt =f\"\"\"Extraia os conceitos da sentença:\n",
        "\n",
        "Sentença: c # cintilografia miocardica para avaliar angina.\n",
        "Problema: angina\n",
        "Teste: cintilografia miocardica, avaliar\n",
        "Tratamento: nenhum\n",
        "Anatomia: miocardica\n",
        "###\n",
        "Sentença: Plastia Mitral ( Insuficiencia ) , CRM Saf - 2Mg e e Saf - 3MG ).\n",
        "Problema: Insuficiencia\n",
        "Teste: nenhum\n",
        "Tratamento: Plastia Mitral, CRM\n",
        "Anatomia: Mitral\n",
        "###\n",
        "Sentença: Uso : AAS 100 - 1xd ; Metoprolol 25 - 1xd ; FSM - 1xd ; Levotiroxina 175 - 1xd ; Sinva 40 - 1xd ; Fluoxetina 20 - 1xd.\n",
        "Problema: nenhum\n",
        "Teste: nenhum\n",
        "Tratamento: AAS 100, Metoprolol 25, FSM, Levotiroxina 175, Sinva 40, Fluoxetina 20\n",
        "Anatomia: nenhum\n",
        "###\n",
        "Sentença: Refere melhora da dispneia depois da cx porem mantem aos mdoeardos - leves esforço.\n",
        "Problema: dispneia, mdoeardos - leves esforço\n",
        "Teste: nenhum\n",
        "Tratamento: cx\n",
        "Anatomia: nenhum\n",
        "###\n",
        "Sentença: Discreto edema mmii pricn a esquerda, dor no peito.\n",
        "Problema: Discreto edema mmii pricn a esquerda\n",
        "Teste: nenhum\n",
        "Tratamento: nenhum\n",
        "Anatomia: mmii, peito\n",
        "### Sentença: {frase2}\"\"\"\n",
        "print(frase2)\n",
        "askAI(prompt)\n"
      ],
      "metadata": {
        "colab": {
          "base_uri": "https://localhost:8080/"
        },
        "id": "VdTgEv9eyETS",
        "outputId": "3926f50b-6364-453a-ba57-81af0185b779"
      },
      "execution_count": null,
      "outputs": [
        {
          "output_type": "stream",
          "name": "stdout",
          "text": [
            "Discreto edema mmii pricn a esquerda. Dor a movimentação do torax, nega palpitação. Em uso de insulina nph, metformina, sinvastatina 40mg 2 cp, clopidogrel 75mg.\n",
            "\n",
            "Problema: Discreto edema mmii pricn a esquerda, dor a movimentação do torax\n",
            "Teste: nenhum\n",
            "Tratamento: insulina nph, metformina, sinvastatina 40mg 2 cp, clopidogrel 75mg\n",
            "Anatomia: mmii, torax\n"
          ]
        }
      ]
    },
    {
      "cell_type": "markdown",
      "source": [
        "Pronto! Nossa API já está retornando as informações que ensinamos ao modelo neste pequeno treinamento.\n",
        "\n",
        "OBS: A cada mensagem via *prompt*, é necessário enviar novamente os exemplos *few-shot*."
      ],
      "metadata": {
        "id": "nW9pEKFeyO_g"
      }
    }
  ]
}