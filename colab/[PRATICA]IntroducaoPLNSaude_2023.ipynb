{
  "nbformat": 4,
  "nbformat_minor": 0,
  "metadata": {
    "colab": {
      "provenance": []
    },
    "kernelspec": {
      "name": "python3",
      "display_name": "Python 3"
    },
    "accelerator": "GPU",
    "widgets": {
      "application/vnd.jupyter.widget-state+json": {
        "b2e34896b2bc4bf9ab7cd6fe5bf04724": {
          "model_module": "@jupyter-widgets/controls",
          "model_name": "HBoxModel",
          "model_module_version": "1.5.0",
          "state": {
            "_dom_classes": [],
            "_model_module": "@jupyter-widgets/controls",
            "_model_module_version": "1.5.0",
            "_model_name": "HBoxModel",
            "_view_count": null,
            "_view_module": "@jupyter-widgets/controls",
            "_view_module_version": "1.5.0",
            "_view_name": "HBoxView",
            "box_style": "",
            "children": [
              "IPY_MODEL_5302fef8d4c94a3094e35b421f5ce17a",
              "IPY_MODEL_e4e4e07bc42a4712b934e3fd88950aa9",
              "IPY_MODEL_ffbcfd480f344df18339e99de5d154f1"
            ],
            "layout": "IPY_MODEL_ee13fa984dca4498812332599a3f1796"
          }
        },
        "5302fef8d4c94a3094e35b421f5ce17a": {
          "model_module": "@jupyter-widgets/controls",
          "model_name": "HTMLModel",
          "model_module_version": "1.5.0",
          "state": {
            "_dom_classes": [],
            "_model_module": "@jupyter-widgets/controls",
            "_model_module_version": "1.5.0",
            "_model_name": "HTMLModel",
            "_view_count": null,
            "_view_module": "@jupyter-widgets/controls",
            "_view_module_version": "1.5.0",
            "_view_name": "HTMLView",
            "description": "",
            "description_tooltip": null,
            "layout": "IPY_MODEL_15824ff119b84be4ab294343d1af6ba0",
            "placeholder": "​",
            "style": "IPY_MODEL_4ef58a7cc40b449894fab1cbb89b5ab2",
            "value": "Downloading (…)lve/main/config.json: 100%"
          }
        },
        "e4e4e07bc42a4712b934e3fd88950aa9": {
          "model_module": "@jupyter-widgets/controls",
          "model_name": "FloatProgressModel",
          "model_module_version": "1.5.0",
          "state": {
            "_dom_classes": [],
            "_model_module": "@jupyter-widgets/controls",
            "_model_module_version": "1.5.0",
            "_model_name": "FloatProgressModel",
            "_view_count": null,
            "_view_module": "@jupyter-widgets/controls",
            "_view_module_version": "1.5.0",
            "_view_name": "ProgressView",
            "bar_style": "success",
            "description": "",
            "description_tooltip": null,
            "layout": "IPY_MODEL_534f14f5c0d74cc4a049284b767a21fa",
            "max": 1035,
            "min": 0,
            "orientation": "horizontal",
            "style": "IPY_MODEL_2cc3fe4aa84148338d8c906bcf5dbe0b",
            "value": 1035
          }
        },
        "ffbcfd480f344df18339e99de5d154f1": {
          "model_module": "@jupyter-widgets/controls",
          "model_name": "HTMLModel",
          "model_module_version": "1.5.0",
          "state": {
            "_dom_classes": [],
            "_model_module": "@jupyter-widgets/controls",
            "_model_module_version": "1.5.0",
            "_model_name": "HTMLModel",
            "_view_count": null,
            "_view_module": "@jupyter-widgets/controls",
            "_view_module_version": "1.5.0",
            "_view_name": "HTMLView",
            "description": "",
            "description_tooltip": null,
            "layout": "IPY_MODEL_ee0c81338e5544309e3d09a65b5075c8",
            "placeholder": "​",
            "style": "IPY_MODEL_830dbeba8bed46acb7049507f4b3740e",
            "value": " 1.03k/1.03k [00:00&lt;00:00, 56.0kB/s]"
          }
        },
        "ee13fa984dca4498812332599a3f1796": {
          "model_module": "@jupyter-widgets/base",
          "model_name": "LayoutModel",
          "model_module_version": "1.2.0",
          "state": {
            "_model_module": "@jupyter-widgets/base",
            "_model_module_version": "1.2.0",
            "_model_name": "LayoutModel",
            "_view_count": null,
            "_view_module": "@jupyter-widgets/base",
            "_view_module_version": "1.2.0",
            "_view_name": "LayoutView",
            "align_content": null,
            "align_items": null,
            "align_self": null,
            "border": null,
            "bottom": null,
            "display": null,
            "flex": null,
            "flex_flow": null,
            "grid_area": null,
            "grid_auto_columns": null,
            "grid_auto_flow": null,
            "grid_auto_rows": null,
            "grid_column": null,
            "grid_gap": null,
            "grid_row": null,
            "grid_template_areas": null,
            "grid_template_columns": null,
            "grid_template_rows": null,
            "height": null,
            "justify_content": null,
            "justify_items": null,
            "left": null,
            "margin": null,
            "max_height": null,
            "max_width": null,
            "min_height": null,
            "min_width": null,
            "object_fit": null,
            "object_position": null,
            "order": null,
            "overflow": null,
            "overflow_x": null,
            "overflow_y": null,
            "padding": null,
            "right": null,
            "top": null,
            "visibility": null,
            "width": null
          }
        },
        "15824ff119b84be4ab294343d1af6ba0": {
          "model_module": "@jupyter-widgets/base",
          "model_name": "LayoutModel",
          "model_module_version": "1.2.0",
          "state": {
            "_model_module": "@jupyter-widgets/base",
            "_model_module_version": "1.2.0",
            "_model_name": "LayoutModel",
            "_view_count": null,
            "_view_module": "@jupyter-widgets/base",
            "_view_module_version": "1.2.0",
            "_view_name": "LayoutView",
            "align_content": null,
            "align_items": null,
            "align_self": null,
            "border": null,
            "bottom": null,
            "display": null,
            "flex": null,
            "flex_flow": null,
            "grid_area": null,
            "grid_auto_columns": null,
            "grid_auto_flow": null,
            "grid_auto_rows": null,
            "grid_column": null,
            "grid_gap": null,
            "grid_row": null,
            "grid_template_areas": null,
            "grid_template_columns": null,
            "grid_template_rows": null,
            "height": null,
            "justify_content": null,
            "justify_items": null,
            "left": null,
            "margin": null,
            "max_height": null,
            "max_width": null,
            "min_height": null,
            "min_width": null,
            "object_fit": null,
            "object_position": null,
            "order": null,
            "overflow": null,
            "overflow_x": null,
            "overflow_y": null,
            "padding": null,
            "right": null,
            "top": null,
            "visibility": null,
            "width": null
          }
        },
        "4ef58a7cc40b449894fab1cbb89b5ab2": {
          "model_module": "@jupyter-widgets/controls",
          "model_name": "DescriptionStyleModel",
          "model_module_version": "1.5.0",
          "state": {
            "_model_module": "@jupyter-widgets/controls",
            "_model_module_version": "1.5.0",
            "_model_name": "DescriptionStyleModel",
            "_view_count": null,
            "_view_module": "@jupyter-widgets/base",
            "_view_module_version": "1.2.0",
            "_view_name": "StyleView",
            "description_width": ""
          }
        },
        "534f14f5c0d74cc4a049284b767a21fa": {
          "model_module": "@jupyter-widgets/base",
          "model_name": "LayoutModel",
          "model_module_version": "1.2.0",
          "state": {
            "_model_module": "@jupyter-widgets/base",
            "_model_module_version": "1.2.0",
            "_model_name": "LayoutModel",
            "_view_count": null,
            "_view_module": "@jupyter-widgets/base",
            "_view_module_version": "1.2.0",
            "_view_name": "LayoutView",
            "align_content": null,
            "align_items": null,
            "align_self": null,
            "border": null,
            "bottom": null,
            "display": null,
            "flex": null,
            "flex_flow": null,
            "grid_area": null,
            "grid_auto_columns": null,
            "grid_auto_flow": null,
            "grid_auto_rows": null,
            "grid_column": null,
            "grid_gap": null,
            "grid_row": null,
            "grid_template_areas": null,
            "grid_template_columns": null,
            "grid_template_rows": null,
            "height": null,
            "justify_content": null,
            "justify_items": null,
            "left": null,
            "margin": null,
            "max_height": null,
            "max_width": null,
            "min_height": null,
            "min_width": null,
            "object_fit": null,
            "object_position": null,
            "order": null,
            "overflow": null,
            "overflow_x": null,
            "overflow_y": null,
            "padding": null,
            "right": null,
            "top": null,
            "visibility": null,
            "width": null
          }
        },
        "2cc3fe4aa84148338d8c906bcf5dbe0b": {
          "model_module": "@jupyter-widgets/controls",
          "model_name": "ProgressStyleModel",
          "model_module_version": "1.5.0",
          "state": {
            "_model_module": "@jupyter-widgets/controls",
            "_model_module_version": "1.5.0",
            "_model_name": "ProgressStyleModel",
            "_view_count": null,
            "_view_module": "@jupyter-widgets/base",
            "_view_module_version": "1.2.0",
            "_view_name": "StyleView",
            "bar_color": null,
            "description_width": ""
          }
        },
        "ee0c81338e5544309e3d09a65b5075c8": {
          "model_module": "@jupyter-widgets/base",
          "model_name": "LayoutModel",
          "model_module_version": "1.2.0",
          "state": {
            "_model_module": "@jupyter-widgets/base",
            "_model_module_version": "1.2.0",
            "_model_name": "LayoutModel",
            "_view_count": null,
            "_view_module": "@jupyter-widgets/base",
            "_view_module_version": "1.2.0",
            "_view_name": "LayoutView",
            "align_content": null,
            "align_items": null,
            "align_self": null,
            "border": null,
            "bottom": null,
            "display": null,
            "flex": null,
            "flex_flow": null,
            "grid_area": null,
            "grid_auto_columns": null,
            "grid_auto_flow": null,
            "grid_auto_rows": null,
            "grid_column": null,
            "grid_gap": null,
            "grid_row": null,
            "grid_template_areas": null,
            "grid_template_columns": null,
            "grid_template_rows": null,
            "height": null,
            "justify_content": null,
            "justify_items": null,
            "left": null,
            "margin": null,
            "max_height": null,
            "max_width": null,
            "min_height": null,
            "min_width": null,
            "object_fit": null,
            "object_position": null,
            "order": null,
            "overflow": null,
            "overflow_x": null,
            "overflow_y": null,
            "padding": null,
            "right": null,
            "top": null,
            "visibility": null,
            "width": null
          }
        },
        "830dbeba8bed46acb7049507f4b3740e": {
          "model_module": "@jupyter-widgets/controls",
          "model_name": "DescriptionStyleModel",
          "model_module_version": "1.5.0",
          "state": {
            "_model_module": "@jupyter-widgets/controls",
            "_model_module_version": "1.5.0",
            "_model_name": "DescriptionStyleModel",
            "_view_count": null,
            "_view_module": "@jupyter-widgets/base",
            "_view_module_version": "1.2.0",
            "_view_name": "StyleView",
            "description_width": ""
          }
        },
        "505e7f0373b34a12ace78303e2c971d7": {
          "model_module": "@jupyter-widgets/controls",
          "model_name": "HBoxModel",
          "model_module_version": "1.5.0",
          "state": {
            "_dom_classes": [],
            "_model_module": "@jupyter-widgets/controls",
            "_model_module_version": "1.5.0",
            "_model_name": "HBoxModel",
            "_view_count": null,
            "_view_module": "@jupyter-widgets/controls",
            "_view_module_version": "1.5.0",
            "_view_name": "HBoxView",
            "box_style": "",
            "children": [
              "IPY_MODEL_70ec2e6c3c2943239c0de6f4d57cebef",
              "IPY_MODEL_642403c7e5bc4adead6a080b67d06ae3",
              "IPY_MODEL_4e71d9928d7b4a27aaf0791072ab61b9"
            ],
            "layout": "IPY_MODEL_4f92af33ca23480988c96800aa920a67"
          }
        },
        "70ec2e6c3c2943239c0de6f4d57cebef": {
          "model_module": "@jupyter-widgets/controls",
          "model_name": "HTMLModel",
          "model_module_version": "1.5.0",
          "state": {
            "_dom_classes": [],
            "_model_module": "@jupyter-widgets/controls",
            "_model_module_version": "1.5.0",
            "_model_name": "HTMLModel",
            "_view_count": null,
            "_view_module": "@jupyter-widgets/controls",
            "_view_module_version": "1.5.0",
            "_view_name": "HTMLView",
            "description": "",
            "description_tooltip": null,
            "layout": "IPY_MODEL_1e76474fae8140fda2bb04ec3e95273d",
            "placeholder": "​",
            "style": "IPY_MODEL_99917b83edba4d4e9bd090d783da13e4",
            "value": "Downloading pytorch_model.bin: 100%"
          }
        },
        "642403c7e5bc4adead6a080b67d06ae3": {
          "model_module": "@jupyter-widgets/controls",
          "model_name": "FloatProgressModel",
          "model_module_version": "1.5.0",
          "state": {
            "_dom_classes": [],
            "_model_module": "@jupyter-widgets/controls",
            "_model_module_version": "1.5.0",
            "_model_name": "FloatProgressModel",
            "_view_count": null,
            "_view_module": "@jupyter-widgets/controls",
            "_view_module_version": "1.5.0",
            "_view_name": "ProgressView",
            "bar_style": "success",
            "description": "",
            "description_tooltip": null,
            "layout": "IPY_MODEL_9fcd8147443f45768ecf2717e2fdf68d",
            "max": 709144049,
            "min": 0,
            "orientation": "horizontal",
            "style": "IPY_MODEL_fe8b18a0426845eabec4a78480908f97",
            "value": 709144049
          }
        },
        "4e71d9928d7b4a27aaf0791072ab61b9": {
          "model_module": "@jupyter-widgets/controls",
          "model_name": "HTMLModel",
          "model_module_version": "1.5.0",
          "state": {
            "_dom_classes": [],
            "_model_module": "@jupyter-widgets/controls",
            "_model_module_version": "1.5.0",
            "_model_name": "HTMLModel",
            "_view_count": null,
            "_view_module": "@jupyter-widgets/controls",
            "_view_module_version": "1.5.0",
            "_view_name": "HTMLView",
            "description": "",
            "description_tooltip": null,
            "layout": "IPY_MODEL_10b9c4946c5d4568b5cd17d469c9c45d",
            "placeholder": "​",
            "style": "IPY_MODEL_9dbc60f95d9b4708a849b14b19dc340c",
            "value": " 709M/709M [00:05&lt;00:00, 155MB/s]"
          }
        },
        "4f92af33ca23480988c96800aa920a67": {
          "model_module": "@jupyter-widgets/base",
          "model_name": "LayoutModel",
          "model_module_version": "1.2.0",
          "state": {
            "_model_module": "@jupyter-widgets/base",
            "_model_module_version": "1.2.0",
            "_model_name": "LayoutModel",
            "_view_count": null,
            "_view_module": "@jupyter-widgets/base",
            "_view_module_version": "1.2.0",
            "_view_name": "LayoutView",
            "align_content": null,
            "align_items": null,
            "align_self": null,
            "border": null,
            "bottom": null,
            "display": null,
            "flex": null,
            "flex_flow": null,
            "grid_area": null,
            "grid_auto_columns": null,
            "grid_auto_flow": null,
            "grid_auto_rows": null,
            "grid_column": null,
            "grid_gap": null,
            "grid_row": null,
            "grid_template_areas": null,
            "grid_template_columns": null,
            "grid_template_rows": null,
            "height": null,
            "justify_content": null,
            "justify_items": null,
            "left": null,
            "margin": null,
            "max_height": null,
            "max_width": null,
            "min_height": null,
            "min_width": null,
            "object_fit": null,
            "object_position": null,
            "order": null,
            "overflow": null,
            "overflow_x": null,
            "overflow_y": null,
            "padding": null,
            "right": null,
            "top": null,
            "visibility": null,
            "width": null
          }
        },
        "1e76474fae8140fda2bb04ec3e95273d": {
          "model_module": "@jupyter-widgets/base",
          "model_name": "LayoutModel",
          "model_module_version": "1.2.0",
          "state": {
            "_model_module": "@jupyter-widgets/base",
            "_model_module_version": "1.2.0",
            "_model_name": "LayoutModel",
            "_view_count": null,
            "_view_module": "@jupyter-widgets/base",
            "_view_module_version": "1.2.0",
            "_view_name": "LayoutView",
            "align_content": null,
            "align_items": null,
            "align_self": null,
            "border": null,
            "bottom": null,
            "display": null,
            "flex": null,
            "flex_flow": null,
            "grid_area": null,
            "grid_auto_columns": null,
            "grid_auto_flow": null,
            "grid_auto_rows": null,
            "grid_column": null,
            "grid_gap": null,
            "grid_row": null,
            "grid_template_areas": null,
            "grid_template_columns": null,
            "grid_template_rows": null,
            "height": null,
            "justify_content": null,
            "justify_items": null,
            "left": null,
            "margin": null,
            "max_height": null,
            "max_width": null,
            "min_height": null,
            "min_width": null,
            "object_fit": null,
            "object_position": null,
            "order": null,
            "overflow": null,
            "overflow_x": null,
            "overflow_y": null,
            "padding": null,
            "right": null,
            "top": null,
            "visibility": null,
            "width": null
          }
        },
        "99917b83edba4d4e9bd090d783da13e4": {
          "model_module": "@jupyter-widgets/controls",
          "model_name": "DescriptionStyleModel",
          "model_module_version": "1.5.0",
          "state": {
            "_model_module": "@jupyter-widgets/controls",
            "_model_module_version": "1.5.0",
            "_model_name": "DescriptionStyleModel",
            "_view_count": null,
            "_view_module": "@jupyter-widgets/base",
            "_view_module_version": "1.2.0",
            "_view_name": "StyleView",
            "description_width": ""
          }
        },
        "9fcd8147443f45768ecf2717e2fdf68d": {
          "model_module": "@jupyter-widgets/base",
          "model_name": "LayoutModel",
          "model_module_version": "1.2.0",
          "state": {
            "_model_module": "@jupyter-widgets/base",
            "_model_module_version": "1.2.0",
            "_model_name": "LayoutModel",
            "_view_count": null,
            "_view_module": "@jupyter-widgets/base",
            "_view_module_version": "1.2.0",
            "_view_name": "LayoutView",
            "align_content": null,
            "align_items": null,
            "align_self": null,
            "border": null,
            "bottom": null,
            "display": null,
            "flex": null,
            "flex_flow": null,
            "grid_area": null,
            "grid_auto_columns": null,
            "grid_auto_flow": null,
            "grid_auto_rows": null,
            "grid_column": null,
            "grid_gap": null,
            "grid_row": null,
            "grid_template_areas": null,
            "grid_template_columns": null,
            "grid_template_rows": null,
            "height": null,
            "justify_content": null,
            "justify_items": null,
            "left": null,
            "margin": null,
            "max_height": null,
            "max_width": null,
            "min_height": null,
            "min_width": null,
            "object_fit": null,
            "object_position": null,
            "order": null,
            "overflow": null,
            "overflow_x": null,
            "overflow_y": null,
            "padding": null,
            "right": null,
            "top": null,
            "visibility": null,
            "width": null
          }
        },
        "fe8b18a0426845eabec4a78480908f97": {
          "model_module": "@jupyter-widgets/controls",
          "model_name": "ProgressStyleModel",
          "model_module_version": "1.5.0",
          "state": {
            "_model_module": "@jupyter-widgets/controls",
            "_model_module_version": "1.5.0",
            "_model_name": "ProgressStyleModel",
            "_view_count": null,
            "_view_module": "@jupyter-widgets/base",
            "_view_module_version": "1.2.0",
            "_view_name": "StyleView",
            "bar_color": null,
            "description_width": ""
          }
        },
        "10b9c4946c5d4568b5cd17d469c9c45d": {
          "model_module": "@jupyter-widgets/base",
          "model_name": "LayoutModel",
          "model_module_version": "1.2.0",
          "state": {
            "_model_module": "@jupyter-widgets/base",
            "_model_module_version": "1.2.0",
            "_model_name": "LayoutModel",
            "_view_count": null,
            "_view_module": "@jupyter-widgets/base",
            "_view_module_version": "1.2.0",
            "_view_name": "LayoutView",
            "align_content": null,
            "align_items": null,
            "align_self": null,
            "border": null,
            "bottom": null,
            "display": null,
            "flex": null,
            "flex_flow": null,
            "grid_area": null,
            "grid_auto_columns": null,
            "grid_auto_flow": null,
            "grid_auto_rows": null,
            "grid_column": null,
            "grid_gap": null,
            "grid_row": null,
            "grid_template_areas": null,
            "grid_template_columns": null,
            "grid_template_rows": null,
            "height": null,
            "justify_content": null,
            "justify_items": null,
            "left": null,
            "margin": null,
            "max_height": null,
            "max_width": null,
            "min_height": null,
            "min_width": null,
            "object_fit": null,
            "object_position": null,
            "order": null,
            "overflow": null,
            "overflow_x": null,
            "overflow_y": null,
            "padding": null,
            "right": null,
            "top": null,
            "visibility": null,
            "width": null
          }
        },
        "9dbc60f95d9b4708a849b14b19dc340c": {
          "model_module": "@jupyter-widgets/controls",
          "model_name": "DescriptionStyleModel",
          "model_module_version": "1.5.0",
          "state": {
            "_model_module": "@jupyter-widgets/controls",
            "_model_module_version": "1.5.0",
            "_model_name": "DescriptionStyleModel",
            "_view_count": null,
            "_view_module": "@jupyter-widgets/base",
            "_view_module_version": "1.2.0",
            "_view_name": "StyleView",
            "description_width": ""
          }
        },
        "911a3b3f46b44cda9c8562d61e1baa8e": {
          "model_module": "@jupyter-widgets/controls",
          "model_name": "HBoxModel",
          "model_module_version": "1.5.0",
          "state": {
            "_dom_classes": [],
            "_model_module": "@jupyter-widgets/controls",
            "_model_module_version": "1.5.0",
            "_model_name": "HBoxModel",
            "_view_count": null,
            "_view_module": "@jupyter-widgets/controls",
            "_view_module_version": "1.5.0",
            "_view_name": "HBoxView",
            "box_style": "",
            "children": [
              "IPY_MODEL_07aa50790e5c422586d726212c00df50",
              "IPY_MODEL_fbc83338841d4e0ab6b87105062f6e7e",
              "IPY_MODEL_61d144a438d54889b3544d76533b0e85"
            ],
            "layout": "IPY_MODEL_e60f45eb962f4633976dc9a7cd737ffe"
          }
        },
        "07aa50790e5c422586d726212c00df50": {
          "model_module": "@jupyter-widgets/controls",
          "model_name": "HTMLModel",
          "model_module_version": "1.5.0",
          "state": {
            "_dom_classes": [],
            "_model_module": "@jupyter-widgets/controls",
            "_model_module_version": "1.5.0",
            "_model_name": "HTMLModel",
            "_view_count": null,
            "_view_module": "@jupyter-widgets/controls",
            "_view_module_version": "1.5.0",
            "_view_name": "HTMLView",
            "description": "",
            "description_tooltip": null,
            "layout": "IPY_MODEL_8e67110965274bb7b2ad00cb41db40a2",
            "placeholder": "​",
            "style": "IPY_MODEL_418e0e61bd16458ba0cc2e24b96847af",
            "value": "Downloading (…)okenizer_config.json: 100%"
          }
        },
        "fbc83338841d4e0ab6b87105062f6e7e": {
          "model_module": "@jupyter-widgets/controls",
          "model_name": "FloatProgressModel",
          "model_module_version": "1.5.0",
          "state": {
            "_dom_classes": [],
            "_model_module": "@jupyter-widgets/controls",
            "_model_module_version": "1.5.0",
            "_model_name": "FloatProgressModel",
            "_view_count": null,
            "_view_module": "@jupyter-widgets/controls",
            "_view_module_version": "1.5.0",
            "_view_name": "ProgressView",
            "bar_style": "success",
            "description": "",
            "description_tooltip": null,
            "layout": "IPY_MODEL_75ec98d556d94daeae4fa1789927246a",
            "max": 151,
            "min": 0,
            "orientation": "horizontal",
            "style": "IPY_MODEL_07a83c5be79a41bf83b583f4c1b5402f",
            "value": 151
          }
        },
        "61d144a438d54889b3544d76533b0e85": {
          "model_module": "@jupyter-widgets/controls",
          "model_name": "HTMLModel",
          "model_module_version": "1.5.0",
          "state": {
            "_dom_classes": [],
            "_model_module": "@jupyter-widgets/controls",
            "_model_module_version": "1.5.0",
            "_model_name": "HTMLModel",
            "_view_count": null,
            "_view_module": "@jupyter-widgets/controls",
            "_view_module_version": "1.5.0",
            "_view_name": "HTMLView",
            "description": "",
            "description_tooltip": null,
            "layout": "IPY_MODEL_23d0bfb6c3bf474d8d343d662057bdb8",
            "placeholder": "​",
            "style": "IPY_MODEL_b5dd2a361dde4ee882ab0d3fdabf3b94",
            "value": " 151/151 [00:00&lt;00:00, 3.34kB/s]"
          }
        },
        "e60f45eb962f4633976dc9a7cd737ffe": {
          "model_module": "@jupyter-widgets/base",
          "model_name": "LayoutModel",
          "model_module_version": "1.2.0",
          "state": {
            "_model_module": "@jupyter-widgets/base",
            "_model_module_version": "1.2.0",
            "_model_name": "LayoutModel",
            "_view_count": null,
            "_view_module": "@jupyter-widgets/base",
            "_view_module_version": "1.2.0",
            "_view_name": "LayoutView",
            "align_content": null,
            "align_items": null,
            "align_self": null,
            "border": null,
            "bottom": null,
            "display": null,
            "flex": null,
            "flex_flow": null,
            "grid_area": null,
            "grid_auto_columns": null,
            "grid_auto_flow": null,
            "grid_auto_rows": null,
            "grid_column": null,
            "grid_gap": null,
            "grid_row": null,
            "grid_template_areas": null,
            "grid_template_columns": null,
            "grid_template_rows": null,
            "height": null,
            "justify_content": null,
            "justify_items": null,
            "left": null,
            "margin": null,
            "max_height": null,
            "max_width": null,
            "min_height": null,
            "min_width": null,
            "object_fit": null,
            "object_position": null,
            "order": null,
            "overflow": null,
            "overflow_x": null,
            "overflow_y": null,
            "padding": null,
            "right": null,
            "top": null,
            "visibility": null,
            "width": null
          }
        },
        "8e67110965274bb7b2ad00cb41db40a2": {
          "model_module": "@jupyter-widgets/base",
          "model_name": "LayoutModel",
          "model_module_version": "1.2.0",
          "state": {
            "_model_module": "@jupyter-widgets/base",
            "_model_module_version": "1.2.0",
            "_model_name": "LayoutModel",
            "_view_count": null,
            "_view_module": "@jupyter-widgets/base",
            "_view_module_version": "1.2.0",
            "_view_name": "LayoutView",
            "align_content": null,
            "align_items": null,
            "align_self": null,
            "border": null,
            "bottom": null,
            "display": null,
            "flex": null,
            "flex_flow": null,
            "grid_area": null,
            "grid_auto_columns": null,
            "grid_auto_flow": null,
            "grid_auto_rows": null,
            "grid_column": null,
            "grid_gap": null,
            "grid_row": null,
            "grid_template_areas": null,
            "grid_template_columns": null,
            "grid_template_rows": null,
            "height": null,
            "justify_content": null,
            "justify_items": null,
            "left": null,
            "margin": null,
            "max_height": null,
            "max_width": null,
            "min_height": null,
            "min_width": null,
            "object_fit": null,
            "object_position": null,
            "order": null,
            "overflow": null,
            "overflow_x": null,
            "overflow_y": null,
            "padding": null,
            "right": null,
            "top": null,
            "visibility": null,
            "width": null
          }
        },
        "418e0e61bd16458ba0cc2e24b96847af": {
          "model_module": "@jupyter-widgets/controls",
          "model_name": "DescriptionStyleModel",
          "model_module_version": "1.5.0",
          "state": {
            "_model_module": "@jupyter-widgets/controls",
            "_model_module_version": "1.5.0",
            "_model_name": "DescriptionStyleModel",
            "_view_count": null,
            "_view_module": "@jupyter-widgets/base",
            "_view_module_version": "1.2.0",
            "_view_name": "StyleView",
            "description_width": ""
          }
        },
        "75ec98d556d94daeae4fa1789927246a": {
          "model_module": "@jupyter-widgets/base",
          "model_name": "LayoutModel",
          "model_module_version": "1.2.0",
          "state": {
            "_model_module": "@jupyter-widgets/base",
            "_model_module_version": "1.2.0",
            "_model_name": "LayoutModel",
            "_view_count": null,
            "_view_module": "@jupyter-widgets/base",
            "_view_module_version": "1.2.0",
            "_view_name": "LayoutView",
            "align_content": null,
            "align_items": null,
            "align_self": null,
            "border": null,
            "bottom": null,
            "display": null,
            "flex": null,
            "flex_flow": null,
            "grid_area": null,
            "grid_auto_columns": null,
            "grid_auto_flow": null,
            "grid_auto_rows": null,
            "grid_column": null,
            "grid_gap": null,
            "grid_row": null,
            "grid_template_areas": null,
            "grid_template_columns": null,
            "grid_template_rows": null,
            "height": null,
            "justify_content": null,
            "justify_items": null,
            "left": null,
            "margin": null,
            "max_height": null,
            "max_width": null,
            "min_height": null,
            "min_width": null,
            "object_fit": null,
            "object_position": null,
            "order": null,
            "overflow": null,
            "overflow_x": null,
            "overflow_y": null,
            "padding": null,
            "right": null,
            "top": null,
            "visibility": null,
            "width": null
          }
        },
        "07a83c5be79a41bf83b583f4c1b5402f": {
          "model_module": "@jupyter-widgets/controls",
          "model_name": "ProgressStyleModel",
          "model_module_version": "1.5.0",
          "state": {
            "_model_module": "@jupyter-widgets/controls",
            "_model_module_version": "1.5.0",
            "_model_name": "ProgressStyleModel",
            "_view_count": null,
            "_view_module": "@jupyter-widgets/base",
            "_view_module_version": "1.2.0",
            "_view_name": "StyleView",
            "bar_color": null,
            "description_width": ""
          }
        },
        "23d0bfb6c3bf474d8d343d662057bdb8": {
          "model_module": "@jupyter-widgets/base",
          "model_name": "LayoutModel",
          "model_module_version": "1.2.0",
          "state": {
            "_model_module": "@jupyter-widgets/base",
            "_model_module_version": "1.2.0",
            "_model_name": "LayoutModel",
            "_view_count": null,
            "_view_module": "@jupyter-widgets/base",
            "_view_module_version": "1.2.0",
            "_view_name": "LayoutView",
            "align_content": null,
            "align_items": null,
            "align_self": null,
            "border": null,
            "bottom": null,
            "display": null,
            "flex": null,
            "flex_flow": null,
            "grid_area": null,
            "grid_auto_columns": null,
            "grid_auto_flow": null,
            "grid_auto_rows": null,
            "grid_column": null,
            "grid_gap": null,
            "grid_row": null,
            "grid_template_areas": null,
            "grid_template_columns": null,
            "grid_template_rows": null,
            "height": null,
            "justify_content": null,
            "justify_items": null,
            "left": null,
            "margin": null,
            "max_height": null,
            "max_width": null,
            "min_height": null,
            "min_width": null,
            "object_fit": null,
            "object_position": null,
            "order": null,
            "overflow": null,
            "overflow_x": null,
            "overflow_y": null,
            "padding": null,
            "right": null,
            "top": null,
            "visibility": null,
            "width": null
          }
        },
        "b5dd2a361dde4ee882ab0d3fdabf3b94": {
          "model_module": "@jupyter-widgets/controls",
          "model_name": "DescriptionStyleModel",
          "model_module_version": "1.5.0",
          "state": {
            "_model_module": "@jupyter-widgets/controls",
            "_model_module_version": "1.5.0",
            "_model_name": "DescriptionStyleModel",
            "_view_count": null,
            "_view_module": "@jupyter-widgets/base",
            "_view_module_version": "1.2.0",
            "_view_name": "StyleView",
            "description_width": ""
          }
        },
        "2345760cd6f34e6a99239f3153a0fc46": {
          "model_module": "@jupyter-widgets/controls",
          "model_name": "HBoxModel",
          "model_module_version": "1.5.0",
          "state": {
            "_dom_classes": [],
            "_model_module": "@jupyter-widgets/controls",
            "_model_module_version": "1.5.0",
            "_model_name": "HBoxModel",
            "_view_count": null,
            "_view_module": "@jupyter-widgets/controls",
            "_view_module_version": "1.5.0",
            "_view_name": "HBoxView",
            "box_style": "",
            "children": [
              "IPY_MODEL_76d120a8ec13404dbb5dfd84633dfb85",
              "IPY_MODEL_4ff037c6d2054d39b3ef828373dcb2f9",
              "IPY_MODEL_1d59d9bd9389419aa984775137dae140"
            ],
            "layout": "IPY_MODEL_bf6c67b3f83f4a369f96ed30c34c779d"
          }
        },
        "76d120a8ec13404dbb5dfd84633dfb85": {
          "model_module": "@jupyter-widgets/controls",
          "model_name": "HTMLModel",
          "model_module_version": "1.5.0",
          "state": {
            "_dom_classes": [],
            "_model_module": "@jupyter-widgets/controls",
            "_model_module_version": "1.5.0",
            "_model_name": "HTMLModel",
            "_view_count": null,
            "_view_module": "@jupyter-widgets/controls",
            "_view_module_version": "1.5.0",
            "_view_name": "HTMLView",
            "description": "",
            "description_tooltip": null,
            "layout": "IPY_MODEL_749989c6ea52412b83cf2f2fde245452",
            "placeholder": "​",
            "style": "IPY_MODEL_58c3a22a8c574e2f9316648f53a3df30",
            "value": "Downloading (…)solve/main/vocab.txt: 100%"
          }
        },
        "4ff037c6d2054d39b3ef828373dcb2f9": {
          "model_module": "@jupyter-widgets/controls",
          "model_name": "FloatProgressModel",
          "model_module_version": "1.5.0",
          "state": {
            "_dom_classes": [],
            "_model_module": "@jupyter-widgets/controls",
            "_model_module_version": "1.5.0",
            "_model_name": "FloatProgressModel",
            "_view_count": null,
            "_view_module": "@jupyter-widgets/controls",
            "_view_module_version": "1.5.0",
            "_view_name": "ProgressView",
            "bar_style": "success",
            "description": "",
            "description_tooltip": null,
            "layout": "IPY_MODEL_f52e3554f01b4d0c99a923354fc60356",
            "max": 995526,
            "min": 0,
            "orientation": "horizontal",
            "style": "IPY_MODEL_a1a1114b714041508a0d065aaffc78ac",
            "value": 995526
          }
        },
        "1d59d9bd9389419aa984775137dae140": {
          "model_module": "@jupyter-widgets/controls",
          "model_name": "HTMLModel",
          "model_module_version": "1.5.0",
          "state": {
            "_dom_classes": [],
            "_model_module": "@jupyter-widgets/controls",
            "_model_module_version": "1.5.0",
            "_model_name": "HTMLModel",
            "_view_count": null,
            "_view_module": "@jupyter-widgets/controls",
            "_view_module_version": "1.5.0",
            "_view_name": "HTMLView",
            "description": "",
            "description_tooltip": null,
            "layout": "IPY_MODEL_f8334c2b2b3c4014af666f7ed9324739",
            "placeholder": "​",
            "style": "IPY_MODEL_a5c713dc832c47af88cd8377c4a9377b",
            "value": " 996k/996k [00:00&lt;00:00, 3.92MB/s]"
          }
        },
        "bf6c67b3f83f4a369f96ed30c34c779d": {
          "model_module": "@jupyter-widgets/base",
          "model_name": "LayoutModel",
          "model_module_version": "1.2.0",
          "state": {
            "_model_module": "@jupyter-widgets/base",
            "_model_module_version": "1.2.0",
            "_model_name": "LayoutModel",
            "_view_count": null,
            "_view_module": "@jupyter-widgets/base",
            "_view_module_version": "1.2.0",
            "_view_name": "LayoutView",
            "align_content": null,
            "align_items": null,
            "align_self": null,
            "border": null,
            "bottom": null,
            "display": null,
            "flex": null,
            "flex_flow": null,
            "grid_area": null,
            "grid_auto_columns": null,
            "grid_auto_flow": null,
            "grid_auto_rows": null,
            "grid_column": null,
            "grid_gap": null,
            "grid_row": null,
            "grid_template_areas": null,
            "grid_template_columns": null,
            "grid_template_rows": null,
            "height": null,
            "justify_content": null,
            "justify_items": null,
            "left": null,
            "margin": null,
            "max_height": null,
            "max_width": null,
            "min_height": null,
            "min_width": null,
            "object_fit": null,
            "object_position": null,
            "order": null,
            "overflow": null,
            "overflow_x": null,
            "overflow_y": null,
            "padding": null,
            "right": null,
            "top": null,
            "visibility": null,
            "width": null
          }
        },
        "749989c6ea52412b83cf2f2fde245452": {
          "model_module": "@jupyter-widgets/base",
          "model_name": "LayoutModel",
          "model_module_version": "1.2.0",
          "state": {
            "_model_module": "@jupyter-widgets/base",
            "_model_module_version": "1.2.0",
            "_model_name": "LayoutModel",
            "_view_count": null,
            "_view_module": "@jupyter-widgets/base",
            "_view_module_version": "1.2.0",
            "_view_name": "LayoutView",
            "align_content": null,
            "align_items": null,
            "align_self": null,
            "border": null,
            "bottom": null,
            "display": null,
            "flex": null,
            "flex_flow": null,
            "grid_area": null,
            "grid_auto_columns": null,
            "grid_auto_flow": null,
            "grid_auto_rows": null,
            "grid_column": null,
            "grid_gap": null,
            "grid_row": null,
            "grid_template_areas": null,
            "grid_template_columns": null,
            "grid_template_rows": null,
            "height": null,
            "justify_content": null,
            "justify_items": null,
            "left": null,
            "margin": null,
            "max_height": null,
            "max_width": null,
            "min_height": null,
            "min_width": null,
            "object_fit": null,
            "object_position": null,
            "order": null,
            "overflow": null,
            "overflow_x": null,
            "overflow_y": null,
            "padding": null,
            "right": null,
            "top": null,
            "visibility": null,
            "width": null
          }
        },
        "58c3a22a8c574e2f9316648f53a3df30": {
          "model_module": "@jupyter-widgets/controls",
          "model_name": "DescriptionStyleModel",
          "model_module_version": "1.5.0",
          "state": {
            "_model_module": "@jupyter-widgets/controls",
            "_model_module_version": "1.5.0",
            "_model_name": "DescriptionStyleModel",
            "_view_count": null,
            "_view_module": "@jupyter-widgets/base",
            "_view_module_version": "1.2.0",
            "_view_name": "StyleView",
            "description_width": ""
          }
        },
        "f52e3554f01b4d0c99a923354fc60356": {
          "model_module": "@jupyter-widgets/base",
          "model_name": "LayoutModel",
          "model_module_version": "1.2.0",
          "state": {
            "_model_module": "@jupyter-widgets/base",
            "_model_module_version": "1.2.0",
            "_model_name": "LayoutModel",
            "_view_count": null,
            "_view_module": "@jupyter-widgets/base",
            "_view_module_version": "1.2.0",
            "_view_name": "LayoutView",
            "align_content": null,
            "align_items": null,
            "align_self": null,
            "border": null,
            "bottom": null,
            "display": null,
            "flex": null,
            "flex_flow": null,
            "grid_area": null,
            "grid_auto_columns": null,
            "grid_auto_flow": null,
            "grid_auto_rows": null,
            "grid_column": null,
            "grid_gap": null,
            "grid_row": null,
            "grid_template_areas": null,
            "grid_template_columns": null,
            "grid_template_rows": null,
            "height": null,
            "justify_content": null,
            "justify_items": null,
            "left": null,
            "margin": null,
            "max_height": null,
            "max_width": null,
            "min_height": null,
            "min_width": null,
            "object_fit": null,
            "object_position": null,
            "order": null,
            "overflow": null,
            "overflow_x": null,
            "overflow_y": null,
            "padding": null,
            "right": null,
            "top": null,
            "visibility": null,
            "width": null
          }
        },
        "a1a1114b714041508a0d065aaffc78ac": {
          "model_module": "@jupyter-widgets/controls",
          "model_name": "ProgressStyleModel",
          "model_module_version": "1.5.0",
          "state": {
            "_model_module": "@jupyter-widgets/controls",
            "_model_module_version": "1.5.0",
            "_model_name": "ProgressStyleModel",
            "_view_count": null,
            "_view_module": "@jupyter-widgets/base",
            "_view_module_version": "1.2.0",
            "_view_name": "StyleView",
            "bar_color": null,
            "description_width": ""
          }
        },
        "f8334c2b2b3c4014af666f7ed9324739": {
          "model_module": "@jupyter-widgets/base",
          "model_name": "LayoutModel",
          "model_module_version": "1.2.0",
          "state": {
            "_model_module": "@jupyter-widgets/base",
            "_model_module_version": "1.2.0",
            "_model_name": "LayoutModel",
            "_view_count": null,
            "_view_module": "@jupyter-widgets/base",
            "_view_module_version": "1.2.0",
            "_view_name": "LayoutView",
            "align_content": null,
            "align_items": null,
            "align_self": null,
            "border": null,
            "bottom": null,
            "display": null,
            "flex": null,
            "flex_flow": null,
            "grid_area": null,
            "grid_auto_columns": null,
            "grid_auto_flow": null,
            "grid_auto_rows": null,
            "grid_column": null,
            "grid_gap": null,
            "grid_row": null,
            "grid_template_areas": null,
            "grid_template_columns": null,
            "grid_template_rows": null,
            "height": null,
            "justify_content": null,
            "justify_items": null,
            "left": null,
            "margin": null,
            "max_height": null,
            "max_width": null,
            "min_height": null,
            "min_width": null,
            "object_fit": null,
            "object_position": null,
            "order": null,
            "overflow": null,
            "overflow_x": null,
            "overflow_y": null,
            "padding": null,
            "right": null,
            "top": null,
            "visibility": null,
            "width": null
          }
        },
        "a5c713dc832c47af88cd8377c4a9377b": {
          "model_module": "@jupyter-widgets/controls",
          "model_name": "DescriptionStyleModel",
          "model_module_version": "1.5.0",
          "state": {
            "_model_module": "@jupyter-widgets/controls",
            "_model_module_version": "1.5.0",
            "_model_name": "DescriptionStyleModel",
            "_view_count": null,
            "_view_module": "@jupyter-widgets/base",
            "_view_module_version": "1.2.0",
            "_view_name": "StyleView",
            "description_width": ""
          }
        },
        "6fa10aba20934a6d82c89720cf66ccbd": {
          "model_module": "@jupyter-widgets/controls",
          "model_name": "HBoxModel",
          "model_module_version": "1.5.0",
          "state": {
            "_dom_classes": [],
            "_model_module": "@jupyter-widgets/controls",
            "_model_module_version": "1.5.0",
            "_model_name": "HBoxModel",
            "_view_count": null,
            "_view_module": "@jupyter-widgets/controls",
            "_view_module_version": "1.5.0",
            "_view_name": "HBoxView",
            "box_style": "",
            "children": [
              "IPY_MODEL_d4368f8e2001481e8c08fe368d566f97",
              "IPY_MODEL_a0bf3e00076a4caf8e62b3e2e0ba87b1",
              "IPY_MODEL_a670bf987d2843a0ad9110cc4223283f"
            ],
            "layout": "IPY_MODEL_4b500e9bbca1437a99439add72ac2f6f"
          }
        },
        "d4368f8e2001481e8c08fe368d566f97": {
          "model_module": "@jupyter-widgets/controls",
          "model_name": "HTMLModel",
          "model_module_version": "1.5.0",
          "state": {
            "_dom_classes": [],
            "_model_module": "@jupyter-widgets/controls",
            "_model_module_version": "1.5.0",
            "_model_name": "HTMLModel",
            "_view_count": null,
            "_view_module": "@jupyter-widgets/controls",
            "_view_module_version": "1.5.0",
            "_view_name": "HTMLView",
            "description": "",
            "description_tooltip": null,
            "layout": "IPY_MODEL_f8d6c1aeb9324c56826d0266249fbcf4",
            "placeholder": "​",
            "style": "IPY_MODEL_c4cc6fe14f9d4a7296ab645f729c47c4",
            "value": "Downloading (…)cial_tokens_map.json: 100%"
          }
        },
        "a0bf3e00076a4caf8e62b3e2e0ba87b1": {
          "model_module": "@jupyter-widgets/controls",
          "model_name": "FloatProgressModel",
          "model_module_version": "1.5.0",
          "state": {
            "_dom_classes": [],
            "_model_module": "@jupyter-widgets/controls",
            "_model_module_version": "1.5.0",
            "_model_name": "FloatProgressModel",
            "_view_count": null,
            "_view_module": "@jupyter-widgets/controls",
            "_view_module_version": "1.5.0",
            "_view_name": "ProgressView",
            "bar_style": "success",
            "description": "",
            "description_tooltip": null,
            "layout": "IPY_MODEL_82f8fcc1df32461bae164ccaa32ef393",
            "max": 112,
            "min": 0,
            "orientation": "horizontal",
            "style": "IPY_MODEL_424ebfe51d9b480dbf3ce480a50c6439",
            "value": 112
          }
        },
        "a670bf987d2843a0ad9110cc4223283f": {
          "model_module": "@jupyter-widgets/controls",
          "model_name": "HTMLModel",
          "model_module_version": "1.5.0",
          "state": {
            "_dom_classes": [],
            "_model_module": "@jupyter-widgets/controls",
            "_model_module_version": "1.5.0",
            "_model_name": "HTMLModel",
            "_view_count": null,
            "_view_module": "@jupyter-widgets/controls",
            "_view_module_version": "1.5.0",
            "_view_name": "HTMLView",
            "description": "",
            "description_tooltip": null,
            "layout": "IPY_MODEL_8df59e9d17aa42b79bdfab40dc0719ef",
            "placeholder": "​",
            "style": "IPY_MODEL_3bfe18f53081479c89cb5ea12341ef10",
            "value": " 112/112 [00:00&lt;00:00, 5.39kB/s]"
          }
        },
        "4b500e9bbca1437a99439add72ac2f6f": {
          "model_module": "@jupyter-widgets/base",
          "model_name": "LayoutModel",
          "model_module_version": "1.2.0",
          "state": {
            "_model_module": "@jupyter-widgets/base",
            "_model_module_version": "1.2.0",
            "_model_name": "LayoutModel",
            "_view_count": null,
            "_view_module": "@jupyter-widgets/base",
            "_view_module_version": "1.2.0",
            "_view_name": "LayoutView",
            "align_content": null,
            "align_items": null,
            "align_self": null,
            "border": null,
            "bottom": null,
            "display": null,
            "flex": null,
            "flex_flow": null,
            "grid_area": null,
            "grid_auto_columns": null,
            "grid_auto_flow": null,
            "grid_auto_rows": null,
            "grid_column": null,
            "grid_gap": null,
            "grid_row": null,
            "grid_template_areas": null,
            "grid_template_columns": null,
            "grid_template_rows": null,
            "height": null,
            "justify_content": null,
            "justify_items": null,
            "left": null,
            "margin": null,
            "max_height": null,
            "max_width": null,
            "min_height": null,
            "min_width": null,
            "object_fit": null,
            "object_position": null,
            "order": null,
            "overflow": null,
            "overflow_x": null,
            "overflow_y": null,
            "padding": null,
            "right": null,
            "top": null,
            "visibility": null,
            "width": null
          }
        },
        "f8d6c1aeb9324c56826d0266249fbcf4": {
          "model_module": "@jupyter-widgets/base",
          "model_name": "LayoutModel",
          "model_module_version": "1.2.0",
          "state": {
            "_model_module": "@jupyter-widgets/base",
            "_model_module_version": "1.2.0",
            "_model_name": "LayoutModel",
            "_view_count": null,
            "_view_module": "@jupyter-widgets/base",
            "_view_module_version": "1.2.0",
            "_view_name": "LayoutView",
            "align_content": null,
            "align_items": null,
            "align_self": null,
            "border": null,
            "bottom": null,
            "display": null,
            "flex": null,
            "flex_flow": null,
            "grid_area": null,
            "grid_auto_columns": null,
            "grid_auto_flow": null,
            "grid_auto_rows": null,
            "grid_column": null,
            "grid_gap": null,
            "grid_row": null,
            "grid_template_areas": null,
            "grid_template_columns": null,
            "grid_template_rows": null,
            "height": null,
            "justify_content": null,
            "justify_items": null,
            "left": null,
            "margin": null,
            "max_height": null,
            "max_width": null,
            "min_height": null,
            "min_width": null,
            "object_fit": null,
            "object_position": null,
            "order": null,
            "overflow": null,
            "overflow_x": null,
            "overflow_y": null,
            "padding": null,
            "right": null,
            "top": null,
            "visibility": null,
            "width": null
          }
        },
        "c4cc6fe14f9d4a7296ab645f729c47c4": {
          "model_module": "@jupyter-widgets/controls",
          "model_name": "DescriptionStyleModel",
          "model_module_version": "1.5.0",
          "state": {
            "_model_module": "@jupyter-widgets/controls",
            "_model_module_version": "1.5.0",
            "_model_name": "DescriptionStyleModel",
            "_view_count": null,
            "_view_module": "@jupyter-widgets/base",
            "_view_module_version": "1.2.0",
            "_view_name": "StyleView",
            "description_width": ""
          }
        },
        "82f8fcc1df32461bae164ccaa32ef393": {
          "model_module": "@jupyter-widgets/base",
          "model_name": "LayoutModel",
          "model_module_version": "1.2.0",
          "state": {
            "_model_module": "@jupyter-widgets/base",
            "_model_module_version": "1.2.0",
            "_model_name": "LayoutModel",
            "_view_count": null,
            "_view_module": "@jupyter-widgets/base",
            "_view_module_version": "1.2.0",
            "_view_name": "LayoutView",
            "align_content": null,
            "align_items": null,
            "align_self": null,
            "border": null,
            "bottom": null,
            "display": null,
            "flex": null,
            "flex_flow": null,
            "grid_area": null,
            "grid_auto_columns": null,
            "grid_auto_flow": null,
            "grid_auto_rows": null,
            "grid_column": null,
            "grid_gap": null,
            "grid_row": null,
            "grid_template_areas": null,
            "grid_template_columns": null,
            "grid_template_rows": null,
            "height": null,
            "justify_content": null,
            "justify_items": null,
            "left": null,
            "margin": null,
            "max_height": null,
            "max_width": null,
            "min_height": null,
            "min_width": null,
            "object_fit": null,
            "object_position": null,
            "order": null,
            "overflow": null,
            "overflow_x": null,
            "overflow_y": null,
            "padding": null,
            "right": null,
            "top": null,
            "visibility": null,
            "width": null
          }
        },
        "424ebfe51d9b480dbf3ce480a50c6439": {
          "model_module": "@jupyter-widgets/controls",
          "model_name": "ProgressStyleModel",
          "model_module_version": "1.5.0",
          "state": {
            "_model_module": "@jupyter-widgets/controls",
            "_model_module_version": "1.5.0",
            "_model_name": "ProgressStyleModel",
            "_view_count": null,
            "_view_module": "@jupyter-widgets/base",
            "_view_module_version": "1.2.0",
            "_view_name": "StyleView",
            "bar_color": null,
            "description_width": ""
          }
        },
        "8df59e9d17aa42b79bdfab40dc0719ef": {
          "model_module": "@jupyter-widgets/base",
          "model_name": "LayoutModel",
          "model_module_version": "1.2.0",
          "state": {
            "_model_module": "@jupyter-widgets/base",
            "_model_module_version": "1.2.0",
            "_model_name": "LayoutModel",
            "_view_count": null,
            "_view_module": "@jupyter-widgets/base",
            "_view_module_version": "1.2.0",
            "_view_name": "LayoutView",
            "align_content": null,
            "align_items": null,
            "align_self": null,
            "border": null,
            "bottom": null,
            "display": null,
            "flex": null,
            "flex_flow": null,
            "grid_area": null,
            "grid_auto_columns": null,
            "grid_auto_flow": null,
            "grid_auto_rows": null,
            "grid_column": null,
            "grid_gap": null,
            "grid_row": null,
            "grid_template_areas": null,
            "grid_template_columns": null,
            "grid_template_rows": null,
            "height": null,
            "justify_content": null,
            "justify_items": null,
            "left": null,
            "margin": null,
            "max_height": null,
            "max_width": null,
            "min_height": null,
            "min_width": null,
            "object_fit": null,
            "object_position": null,
            "order": null,
            "overflow": null,
            "overflow_x": null,
            "overflow_y": null,
            "padding": null,
            "right": null,
            "top": null,
            "visibility": null,
            "width": null
          }
        },
        "3bfe18f53081479c89cb5ea12341ef10": {
          "model_module": "@jupyter-widgets/controls",
          "model_name": "DescriptionStyleModel",
          "model_module_version": "1.5.0",
          "state": {
            "_model_module": "@jupyter-widgets/controls",
            "_model_module_version": "1.5.0",
            "_model_name": "DescriptionStyleModel",
            "_view_count": null,
            "_view_module": "@jupyter-widgets/base",
            "_view_module_version": "1.2.0",
            "_view_name": "StyleView",
            "description_width": ""
          }
        }
      }
    }
  },
  "cells": [
    {
      "cell_type": "markdown",
      "metadata": {
        "id": "edbiEodXRg6H"
      },
      "source": [
        "![picture](https://avatars.githubusercontent.com/u/55989987?s=200&v=4)\n",
        "## **[PRATICA]** Introdução à PLN na área da saúde\n",
        "Bem-vindo(a) ao tutorial prático da aula  **Introdução à PLN na área da saúde**. Vamos ver algumas tarefas de processamento de texto, reconhecimento de entidades e testar um modelo Word2vec treinado pelo nosso grupo de pesquisa, [HAILab](https://github.com/HAILab-PUCPR/).\n",
        "\n",
        "Temas abordados:\n",
        "\n",
        "1.  Baixando um corpus clínico\n",
        "2.  Processamento básico de textos com o pacote [NLTK](https://www.nltk.org/)\n",
        "3.  Reconhecimento de entidades nomeadas (NER)\n",
        "4.  Explorando um modelo Word2vec treinado com *tweets* brasileiros sobre Covid-19\n",
        "\n",
        "### **Relembrando: O que é Processamento de Linguagem Natural?**\n",
        "\n",
        "É uma sub-área da Inteligência Artificial que ajuda computadores a entender, interpretar e manipular a linguagem natural (linguagem escrita ou falada)\n",
        "\n",
        "O PLN é uma área de fundamental importância na extração informação de textos clínicos.\n",
        "\n",
        "\n",
        "\n",
        "\n",
        "\n",
        "\n"
      ]
    },
    {
      "cell_type": "markdown",
      "source": [
        "\n",
        "\n",
        "### **1) Baixando um corpus clínico**\n"
      ],
      "metadata": {
        "id": "oGQzcNZaKcxN"
      }
    },
    {
      "cell_type": "markdown",
      "metadata": {
        "id": "KxPXAeEPLz4y"
      },
      "source": [
        "Vamos utilizar um dataset de textos biomédicos em Português Europeu, disponível [neste link](https://github.com/fabioacl/PortugueseClinicalNER).\n",
        "\n",
        "> **OBSERVAÇÃO**: O corpus contendo narrativas clínicas anotadas para NER, [SemClinBr](https://github.com/HAILab-PUCPR/SemClinBr), desenvolvido pelo HAILab, está disponível para acesso mediante solicitação, para fins acadêmicos e de pesquisa.\n",
        "\n"
      ]
    },
    {
      "cell_type": "code",
      "metadata": {
        "id": "mrk0rAoRNjBT",
        "colab": {
          "base_uri": "https://localhost:8080/"
        },
        "outputId": "037e50e5-7185-4e52-cf5a-0e3a65375286"
      },
      "source": [
        "# Instala pacote gitPython, que serve para copiar arquivos do GitHub\n",
        "!pip install gitpython"
      ],
      "execution_count": null,
      "outputs": [
        {
          "output_type": "stream",
          "name": "stdout",
          "text": [
            "Collecting gitpython\n",
            "  Downloading GitPython-3.1.31-py3-none-any.whl (184 kB)\n",
            "\u001b[?25l     \u001b[90m━━━━━━━━━━━━━━━━━━━━━━━━━━━━━━━━━━━━━━━━\u001b[0m \u001b[32m0.0/184.3 kB\u001b[0m \u001b[31m?\u001b[0m eta \u001b[36m-:--:--\u001b[0m\r\u001b[2K     \u001b[90m━━━━━━━━━━━━━━━━━━━━━━━━━━━━━━━━━━━━━━━\u001b[0m \u001b[32m184.3/184.3 kB\u001b[0m \u001b[31m7.5 MB/s\u001b[0m eta \u001b[36m0:00:00\u001b[0m\n",
            "\u001b[?25hCollecting gitdb<5,>=4.0.1 (from gitpython)\n",
            "  Downloading gitdb-4.0.10-py3-none-any.whl (62 kB)\n",
            "\u001b[?25l     \u001b[90m━━━━━━━━━━━━━━━━━━━━━━━━━━━━━━━━━━━━━━━━\u001b[0m \u001b[32m0.0/62.7 kB\u001b[0m \u001b[31m?\u001b[0m eta \u001b[36m-:--:--\u001b[0m\r\u001b[2K     \u001b[90m━━━━━━━━━━━━━━━━━━━━━━━━━━━━━━━━━━━━━━━━\u001b[0m \u001b[32m62.7/62.7 kB\u001b[0m \u001b[31m9.4 MB/s\u001b[0m eta \u001b[36m0:00:00\u001b[0m\n",
            "\u001b[?25hCollecting smmap<6,>=3.0.1 (from gitdb<5,>=4.0.1->gitpython)\n",
            "  Downloading smmap-5.0.0-py3-none-any.whl (24 kB)\n",
            "Installing collected packages: smmap, gitdb, gitpython\n",
            "Successfully installed gitdb-4.0.10 gitpython-3.1.31 smmap-5.0.0\n"
          ]
        }
      ]
    },
    {
      "cell_type": "code",
      "metadata": {
        "id": "aCIuYpQ7NP63",
        "colab": {
          "base_uri": "https://localhost:8080/",
          "height": 36
        },
        "outputId": "68355733-649e-488b-b196-6ee4fbfe0924"
      },
      "source": [
        "import git\n",
        "# Copia repositório para diretório atual\n",
        "git.Git(\"./\").clone(\"https://github.com/fabioacl/PortugueseClinicalNER.git\")"
      ],
      "execution_count": null,
      "outputs": [
        {
          "output_type": "execute_result",
          "data": {
            "text/plain": [
              "''"
            ],
            "application/vnd.google.colaboratory.intrinsic+json": {
              "type": "string"
            }
          },
          "metadata": {},
          "execution_count": 2
        }
      ]
    },
    {
      "cell_type": "code",
      "source": [
        "!ls PortugueseClinicalNER"
      ],
      "metadata": {
        "id": "YOboJZqlAUur",
        "colab": {
          "base_uri": "https://localhost:8080/"
        },
        "outputId": "f96c2681-4c27-4f4a-a78d-76ead54585b4"
      },
      "execution_count": null,
      "outputs": [
        {
          "output_type": "stream",
          "name": "stdout",
          "text": [
            " README.md\t\t       'Texts SPN 2 Raw'\n",
            "'Texts SPN 1 Labeled English'  'Texts Word Embeddings Training'\n",
            "'Texts SPN 1 Raw'\t       'Word Embedding Model'\n",
            "'Texts SPN 2 Labeled English'\n"
          ]
        }
      ]
    },
    {
      "cell_type": "markdown",
      "metadata": {
        "id": "MfXnHW6OOvi1"
      },
      "source": [
        "Agora vamos armazenar alguns dos dados dos arquivos originais, em uma lista."
      ]
    },
    {
      "cell_type": "code",
      "metadata": {
        "id": "ETccwih_Qdut"
      },
      "source": [
        "import os\n",
        "\n",
        "# Cria lista\n",
        "textos = []\n",
        "directory = \"PortugueseClinicalNER/Texts SPN 2 Raw/\"\n",
        "\n",
        "# Percorre arquivos do diretório\n",
        "for filename in os.listdir(directory):\n",
        "  #Se é um arquivo texto\n",
        "  if filename.endswith(\".txt\"):\n",
        "\n",
        "    # Abre arquivo\n",
        "    f = open(os.path.join(directory, filename), \"r\", encoding='cp1252')\n",
        "    # Adiciona texto na lista\n",
        "    textos.append(f.read().replace(\"\\n\", \" \"))\n",
        "    # Guarda\n",
        "\n",
        "  else:\n",
        "    continue"
      ],
      "execution_count": null,
      "outputs": []
    },
    {
      "cell_type": "code",
      "source": [
        "textos[:2]"
      ],
      "metadata": {
        "id": "FeQZlDyhRrfg",
        "colab": {
          "base_uri": "https://localhost:8080/"
        },
        "outputId": "6cc7b5ce-2833-4e47-b8ac-758a97030137"
      },
      "execution_count": null,
      "outputs": [
        {
          "output_type": "execute_result",
          "data": {
            "text/plain": [
              "['Adolescente de 13 anos com DW com confirmação genética e apresentação neurológica por doença de movimento (parkinsonismo e distonia) com agravamento progressivo, sem evidência clínica ou analítica de atingimento hepático. A biópsia hepática apresentava infiltrado inflamatório e sinais de hepatopatia crónica, sem cirrose. A RMN cerebral mostrou hipersinal T2 nos gânglios da base (caudado e putámen), sem alterações em T1 e restrição à difusão no caudado, núcleo lenticular e mesencéfalo. O início do tratamento com penicilamina despoletou uma progressiva deterioração neurológica sem estabilização após 11 meses de follow-up.',\n",
              " 'Homem de 65 anos, com antecedentes de diabetes mellitus tipo 2 controlada, com quadro de 3 meses de evolução caracterizado por tosse não produtiva, mialgias, febre, anorexia e perda de peso. Apresenta posteriormente agravamento com quadro de confusão mental com 4 dias de evolução, razão pela qual recorre ao Serviço de Urgência. À observação, febril (38.5ºC), lentificação psico-motora, desorientação temporal, com compromisso da atenção e da memória de trabalho. Sem sinais meníngeos ou outras alterações ao exame neurológico. Sem alterações em TC-CE, realizou-se punção lombar, pressão de abertura de 18 cm H2O, com documentação de pleocitose de predomínio mononuclear (73 células/µl), hipoglicorráquia de 52 mg/dL (26% da capilar) e hiperproteinorraquia (93 mg/dL). Pesquisa de bacilos álcool- -ácido resistentes (BAAR) e exame bacteriológico do LCR negativos. RM-CE identificou múltiplas lesões parenquimatosas supra e infra-tentoriais hiperintensas em T2/FLAIR, com captação anelar de gadolínio. Iniciada terapêutica empírica para meningoencefalite tuberculosa com isoniazida, rifampicina, pirazinamida e etambutol, com confirmação diagnóstica posterior após identificação de Mycobacterium tuberculosis no LCR por PCR e exame cultural. A observação de fundo ocular por lâmpada de fenda permitiu identificar a presença de tubérculo coroideu esquerdo.']"
            ]
          },
          "metadata": {},
          "execution_count": 5
        }
      ]
    },
    {
      "cell_type": "markdown",
      "source": [
        "\n",
        "\n",
        "### **2) Processando textos com o pacote NLTK**\n"
      ],
      "metadata": {
        "id": "-Ueen2lJLbvf"
      }
    },
    {
      "cell_type": "markdown",
      "metadata": {
        "id": "N9hPms-Reqwn"
      },
      "source": [
        "O NLTK (*Natural Language Toolkit*) é uma biblioteca para processamento de linguagem natural que fornece várias funcionalidades de PLN.\n",
        "\n",
        "O NLTK já vem instalado no ambiente do *Google Colab* por padrão, porém, alguns recursos como corpora textuais podem não estar disponíveis. Para tal, você deve explicitamente recomendar seu *download* usando o comando a seguir:\n",
        "\n",
        "```nltk.download()```\n",
        "\n",
        "> **OBSERVAÇÃO**: Você pode optar por utilizar outros pacotes como o [Stanza](https://stanfordnlp.github.io/stanza/) e o [spaCy](https://spacy.io/).\n",
        "\n"
      ]
    },
    {
      "cell_type": "code",
      "source": [
        "# Você deve importar o tokenizador da biblioteca NLTK\n",
        "import nltk\n",
        "from nltk import tokenize\n",
        "\n",
        "# Caso não tenha feito o download de todos recursos do NLTK, você pode fazê-lo de maneira individual\n",
        "# aqui vamos obter os recursos relacionados à tokenização (modelos pré-treinados, regras gramaticais e outros recursos)\n",
        "nltk.download('punkt')\n"
      ],
      "metadata": {
        "id": "5y1R_oTNMKWA",
        "colab": {
          "base_uri": "https://localhost:8080/"
        },
        "outputId": "7bad7b79-98af-4947-99b6-ab10be8cd1b4"
      },
      "execution_count": null,
      "outputs": [
        {
          "output_type": "stream",
          "name": "stderr",
          "text": [
            "[nltk_data] Downloading package punkt to /root/nltk_data...\n",
            "[nltk_data]   Unzipping tokenizers/punkt.zip.\n"
          ]
        },
        {
          "output_type": "execute_result",
          "data": {
            "text/plain": [
              "True"
            ]
          },
          "metadata": {},
          "execution_count": 6
        }
      ]
    },
    {
      "cell_type": "markdown",
      "metadata": {
        "id": "Uh_EdDgkfTTb"
      },
      "source": [
        "#### Operações Básicas ou Pré-processamento\n",
        "As operações a seguir geralmente fazem parte de uma etapa do PLN chamada de **Pré-processamento**, e já se tornaram triviais a todos programas de PLN, pois preparam o texto bruto para ser realmente processado e \"entendido\" pela máquina.\n",
        "\n",
        "*   Segmentação de sentenças\n",
        "*   Tokenização\n",
        "*   Normalização\n",
        "*   *Stemming*\n",
        "*   Lematização\n",
        "\n"
      ]
    },
    {
      "cell_type": "markdown",
      "metadata": {
        "id": "kdHtCh89hCWt"
      },
      "source": [
        "##### Segmentação de sentenças\n",
        "As regras principais de segmentação de sentenças contam com a divisão a partir de pontuações encontradas no texto ou quebras de linha.\n",
        "\n",
        "![Exemplo de segmentação de sentença - Dan Jurafsky](https://drive.google.com/uc?export=view&id=15fLctvbOi8_STzO8AOzzW095yA2IvPmK)"
      ]
    },
    {
      "cell_type": "code",
      "metadata": {
        "id": "6nHt_xH0RpH6",
        "colab": {
          "base_uri": "https://localhost:8080/"
        },
        "outputId": "eb8c2aa2-df76-48a3-fcb6-5677191ffa6c"
      },
      "source": [
        "# Exemplo de tokenização a nivel de sentença\n",
        "# Vamos pegar as sentencas do nosso texto, usando a função 'sent_tokenize'\n",
        "\n",
        "from nltk import sent_tokenize\n",
        "\n",
        "sents = sent_tokenize(textos[0])\n",
        "# imprime as 5 primeiras frases\n",
        "sents[0:5]"
      ],
      "execution_count": null,
      "outputs": [
        {
          "output_type": "execute_result",
          "data": {
            "text/plain": [
              "['Adolescente de 13 anos com DW com confirmação genética e apresentação neurológica por doença de movimento (parkinsonismo e distonia) com agravamento progressivo, sem evidência clínica ou analítica de atingimento hepático.',\n",
              " 'A biópsia hepática apresentava infiltrado inflamatório e sinais de hepatopatia crónica, sem cirrose.',\n",
              " 'A RMN cerebral mostrou hipersinal T2 nos gânglios da base (caudado e putámen), sem alterações em T1 e restrição à difusão no caudado, núcleo lenticular e mesencéfalo.',\n",
              " 'O início do tratamento com penicilamina despoletou uma progressiva deterioração neurológica sem estabilização após 11 meses de follow-up.']"
            ]
          },
          "metadata": {},
          "execution_count": 7
        }
      ]
    },
    {
      "cell_type": "markdown",
      "metadata": {
        "id": "67jl8qVpff9z"
      },
      "source": [
        "##### Tokenização\n",
        "Serve para separar o texto em *tokens* - que são uma sequência de caracteres com algum significado semântico.\n",
        "\n",
        "**Principais dificuldades**:\n",
        "*   \"São Paulo\" - uma ou duas palavras?\n",
        "*   \"A seleção dos E.U.A. venceu.\" - Pontuação pode ser considerada quebra de sentença\n",
        "*   \"Tromba d'água\"\n",
        "*   \"Interação humano-computador\""
      ]
    },
    {
      "cell_type": "code",
      "source": [
        "# Exemplo de tokenização a nivel de palavra\n",
        "texto = sents[2]\n",
        "# Tokeniza o texto\n",
        "tokens = tokenize.word_tokenize(texto, language='portuguese')\n",
        "print(tokens)"
      ],
      "metadata": {
        "id": "DzspHsBQMNuU",
        "colab": {
          "base_uri": "https://localhost:8080/"
        },
        "outputId": "536d6a0f-54bb-4c5d-e0dc-01a05f09a5e9"
      },
      "execution_count": null,
      "outputs": [
        {
          "output_type": "stream",
          "name": "stdout",
          "text": [
            "['A', 'RMN', 'cerebral', 'mostrou', 'hipersinal', 'T2', 'nos', 'gânglios', 'da', 'base', '(', 'caudado', 'e', 'putámen', ')', ',', 'sem', 'alterações', 'em', 'T1', 'e', 'restrição', 'à', 'difusão', 'no', 'caudado', ',', 'núcleo', 'lenticular', 'e', 'mesencéfalo', '.']\n"
          ]
        }
      ]
    },
    {
      "cell_type": "markdown",
      "metadata": {
        "id": "4W-VfgOQf-aS"
      },
      "source": [
        "Quantos caracteres temos?"
      ]
    },
    {
      "cell_type": "code",
      "metadata": {
        "id": "V2EAdoVff-hP",
        "colab": {
          "base_uri": "https://localhost:8080/"
        },
        "outputId": "4d6dbcfc-efda-41fb-b79f-b4e752bea60d"
      },
      "source": [
        "len(texto)"
      ],
      "execution_count": null,
      "outputs": [
        {
          "output_type": "execute_result",
          "data": {
            "text/plain": [
              "166"
            ]
          },
          "metadata": {},
          "execution_count": 9
        }
      ]
    },
    {
      "cell_type": "markdown",
      "metadata": {
        "id": "Aw9mHXElgBLJ"
      },
      "source": [
        "Quantos tokens temos?"
      ]
    },
    {
      "cell_type": "code",
      "metadata": {
        "id": "Kzw4kzDbgBSE",
        "colab": {
          "base_uri": "https://localhost:8080/"
        },
        "outputId": "fed7524b-b16d-4bf5-87b7-f3f4a0d84615"
      },
      "source": [
        "len(tokens)"
      ],
      "execution_count": null,
      "outputs": [
        {
          "output_type": "execute_result",
          "data": {
            "text/plain": [
              "32"
            ]
          },
          "metadata": {},
          "execution_count": 10
        }
      ]
    },
    {
      "cell_type": "markdown",
      "metadata": {
        "id": "gSS5EauRgFSF"
      },
      "source": [
        "Quantos tokens únicos nós temos?"
      ]
    },
    {
      "cell_type": "code",
      "metadata": {
        "id": "PslQDg4vgFfT",
        "colab": {
          "base_uri": "https://localhost:8080/"
        },
        "outputId": "30deb288-a371-4fc6-f6ca-9c105828916d"
      },
      "source": [
        "len(set(tokens))"
      ],
      "execution_count": null,
      "outputs": [
        {
          "output_type": "execute_result",
          "data": {
            "text/plain": [
              "28"
            ]
          },
          "metadata": {},
          "execution_count": 11
        }
      ]
    },
    {
      "cell_type": "code",
      "metadata": {
        "id": "MmdKM18jgmAk",
        "colab": {
          "base_uri": "https://localhost:8080/"
        },
        "outputId": "b10fb683-d485-46c5-a8bf-70958fc8bfd5"
      },
      "source": [
        "# Usando a biblioteca collections\n",
        "from collections import Counter\n",
        "\n",
        "contador = Counter(tokens)\n",
        "\n",
        "for cont in contador.items():\n",
        "  print(cont)"
      ],
      "execution_count": null,
      "outputs": [
        {
          "output_type": "stream",
          "name": "stdout",
          "text": [
            "('A', 1)\n",
            "('RMN', 1)\n",
            "('cerebral', 1)\n",
            "('mostrou', 1)\n",
            "('hipersinal', 1)\n",
            "('T2', 1)\n",
            "('nos', 1)\n",
            "('gânglios', 1)\n",
            "('da', 1)\n",
            "('base', 1)\n",
            "('(', 1)\n",
            "('caudado', 2)\n",
            "('e', 3)\n",
            "('putámen', 1)\n",
            "(')', 1)\n",
            "(',', 2)\n",
            "('sem', 1)\n",
            "('alterações', 1)\n",
            "('em', 1)\n",
            "('T1', 1)\n",
            "('restrição', 1)\n",
            "('à', 1)\n",
            "('difusão', 1)\n",
            "('no', 1)\n",
            "('núcleo', 1)\n",
            "('lenticular', 1)\n",
            "('mesencéfalo', 1)\n",
            "('.', 1)\n"
          ]
        }
      ]
    },
    {
      "cell_type": "code",
      "metadata": {
        "id": "BSEyWllagpcj",
        "colab": {
          "base_uri": "https://localhost:8080/"
        },
        "outputId": "48bb9c75-21e2-491d-dff6-050d4da2b4d0"
      },
      "source": [
        "# Mostra os termos mais frequentes\n",
        "contador.most_common(2)"
      ],
      "execution_count": null,
      "outputs": [
        {
          "output_type": "execute_result",
          "data": {
            "text/plain": [
              "[('e', 3), ('caudado', 2)]"
            ]
          },
          "metadata": {},
          "execution_count": 13
        }
      ]
    },
    {
      "cell_type": "markdown",
      "metadata": {
        "id": "YUOaU0ogiHam"
      },
      "source": [
        "##### *Stemming*\n",
        "Reduz as palavras ao seu *stem*, retirando o sufixo. Faz com que palavras de mesmo significado semântico (ou similar) sejam escritas da mesma maneira (e.g., correr, correndo, correu). Geralmente o *stem* não é uma palavra válida.\n",
        "\n",
        "Para conhecer mais: https://www.nltk.org/_modules/nltk/stem/rslp.html\n"
      ]
    },
    {
      "cell_type": "code",
      "metadata": {
        "id": "DuE-GRieiL7U",
        "colab": {
          "base_uri": "https://localhost:8080/"
        },
        "outputId": "950b8bbd-71ec-46e5-e2db-d0e487324dd9"
      },
      "source": [
        "# Caso não tenha feito o download de todos recursos do NLTK, você pode fazê-lo de maneira individual\n",
        "# obtendo o stemmer para português (cada idioma tem suas regras próprias)\n",
        "nltk.download('rslp')\n",
        "\n",
        "# Inicia o Stemmer\n",
        "stemmer = nltk.stem.RSLPStemmer()\n",
        "\n",
        "print(stemmer.stem(\"ferro\"))\n",
        "print(stemmer.stem(\"ferreiro\"))\n",
        "\n",
        "print(stemmer.stem(\"correr\"))\n",
        "print(stemmer.stem(\"correu\"))"
      ],
      "execution_count": null,
      "outputs": [
        {
          "output_type": "stream",
          "name": "stdout",
          "text": [
            "ferr\n",
            "ferr\n",
            "corr\n",
            "corr\n"
          ]
        },
        {
          "output_type": "stream",
          "name": "stderr",
          "text": [
            "[nltk_data] Downloading package rslp to /root/nltk_data...\n",
            "[nltk_data]   Unzipping stemmers/rslp.zip.\n"
          ]
        }
      ]
    },
    {
      "cell_type": "code",
      "metadata": {
        "id": "kvE4WRMdiQIJ",
        "colab": {
          "base_uri": "https://localhost:8080/"
        },
        "outputId": "9110d408-61d3-46df-a26b-d295c59bf38b"
      },
      "source": [
        "# Define uma função que faz Stemming em todo um texto\n",
        "def Stemming(texto):\n",
        "  stemmer = nltk.stem.RSLPStemmer()\n",
        "  novotexto = []\n",
        "  for token in texto:\n",
        "    novotexto.append(stemmer.stem(token.lower()))\n",
        "  return novotexto\n",
        "\n",
        "texto1 = \"Eu gostei de correr\"\n",
        "texto2 = \"Eu gosto de corrida\"\n",
        "\n",
        "# Tokeniza o texto\n",
        "tokens1 = tokenize.word_tokenize(texto1, language='portuguese')\n",
        "tokens2 = tokenize.word_tokenize(texto2, language='portuguese')\n",
        "\n",
        "novotexto1 = Stemming(tokens1)\n",
        "novotexto2 = Stemming(tokens2)\n",
        "\n",
        "print(novotexto1)\n",
        "print(novotexto2)"
      ],
      "execution_count": null,
      "outputs": [
        {
          "output_type": "stream",
          "name": "stdout",
          "text": [
            "['eu', 'gost', 'de', 'corr']\n",
            "['eu', 'gost', 'de', 'corr']\n"
          ]
        }
      ]
    },
    {
      "cell_type": "code",
      "source": [
        "# aplicando no nosso texto\n",
        "tokens = tokenize.word_tokenize(texto, language='portuguese')\n",
        "novotexto = Stemming(tokens)\n",
        "\n",
        "print(\"Texto original:\")\n",
        "print(texto)\n",
        "print(\"\\nTexto com steming:\")\n",
        "print(' '.join(novotexto))"
      ],
      "metadata": {
        "id": "k1qwYeovBIyr",
        "colab": {
          "base_uri": "https://localhost:8080/"
        },
        "outputId": "1ce285a4-8b76-435f-8404-443304852b39"
      },
      "execution_count": null,
      "outputs": [
        {
          "output_type": "stream",
          "name": "stdout",
          "text": [
            "Texto original:\n",
            "A RMN cerebral mostrou hipersinal T2 nos gânglios da base (caudado e putámen), sem alterações em T1 e restrição à difusão no caudado, núcleo lenticular e mesencéfalo.\n",
            "\n",
            "Texto com steming:\n",
            "a rmn cerebr mostr hipers t2 no gângli da bas ( caud e putámen ) , sem alter em t1 e restr à difus no caud , núcle lenticul e mesencéfal .\n"
          ]
        }
      ]
    },
    {
      "cell_type": "markdown",
      "metadata": {
        "id": "UDzzcNc7iUDf"
      },
      "source": [
        "##### Lematização\n",
        "Similar ao processo de *Stemming*, porém, faz uma análise morfológica completa para identificar e remover os sufixos. Geralmente leva os verbos ao infinitivo e substantivos/adjetivos ao masculino singular. Se diferencia do *Stemming* pois sempre gera uma palavra válida.\n",
        "\n",
        "Infelizmente, esta funcionalidade não é suportada pelo NLTK. [Neste link](https://lars76.github.io/nlp/lemmatize-portuguese/) você pode encontrar alternativas para realizar a lematização em português.\n"
      ]
    },
    {
      "cell_type": "markdown",
      "metadata": {
        "id": "fNz_IP2uikoE"
      },
      "source": [
        "##### Retirada de *Stop-words*\n",
        "As vezes é necessário remover as palavras de maior ocorrência no conjunto de textos, pois geralmente elas não agregam grande valor semântico aos textos e não ajudam no processo de selecionar as informações relevantes ao sistema de PLN.\n",
        "\n",
        "Este processo pode ser diferente, de acordo com a tarefa de PLN que você está executando, mas no geral temos duas abordagens: retirar as palavras de maior ocorrência levando em conta a [lei de Zipf](http://terrierteam.dcs.gla.ac.uk/publications/rtlo_DIRpaper.pdf), ou utilizar uma lista de *stop-words* pronta para seu idioma. Iremos realizar a segunda opção."
      ]
    },
    {
      "cell_type": "code",
      "metadata": {
        "id": "uGLqL_WCiu33",
        "colab": {
          "base_uri": "https://localhost:8080/"
        },
        "outputId": "ded5c08c-3e32-4175-c570-43f3870eeb67"
      },
      "source": [
        "# Caso não tenha feito o download de todos recursos do NLTK, você pode fazê-lo de maneira individual\n",
        "nltk.download('stopwords')\n",
        "\n",
        "# O NLTK fornece uma lista de stop-words para o idioma português\n",
        "stopwords = nltk.corpus.stopwords.words('portuguese')\n",
        "stopwords[:20]"
      ],
      "execution_count": null,
      "outputs": [
        {
          "output_type": "stream",
          "name": "stderr",
          "text": [
            "[nltk_data] Downloading package stopwords to /root/nltk_data...\n",
            "[nltk_data]   Unzipping corpora/stopwords.zip.\n"
          ]
        },
        {
          "output_type": "execute_result",
          "data": {
            "text/plain": [
              "['a',\n",
              " 'à',\n",
              " 'ao',\n",
              " 'aos',\n",
              " 'aquela',\n",
              " 'aquelas',\n",
              " 'aquele',\n",
              " 'aqueles',\n",
              " 'aquilo',\n",
              " 'as',\n",
              " 'às',\n",
              " 'até',\n",
              " 'com',\n",
              " 'como',\n",
              " 'da',\n",
              " 'das',\n",
              " 'de',\n",
              " 'dela',\n",
              " 'delas',\n",
              " 'dele']"
            ]
          },
          "metadata": {},
          "execution_count": 17
        }
      ]
    },
    {
      "cell_type": "code",
      "metadata": {
        "id": "zYagBtbdiyZt",
        "colab": {
          "base_uri": "https://localhost:8080/"
        },
        "outputId": "6008b19c-f408-4913-c619-005d648adf98"
      },
      "source": [
        "# Define uma função que remove as stop words de um texto\n",
        "def removeStopWords(texto):\n",
        "    stopwords = nltk.corpus.stopwords.words('portuguese')\n",
        "    novotexto = []\n",
        "    for token in texto:\n",
        "        if token.lower() not in stopwords:\n",
        "            novotexto.append(token)\n",
        "    return novotexto\n",
        "\n",
        "# envia o texto tokenizado\n",
        "novotexto = removeStopWords(tokens)\n",
        "\n",
        "print(\"Texto original:\")\n",
        "print(texto)\n",
        "print(\"\\nTexto sem stop words:\")\n",
        "print(' '.join(novotexto))"
      ],
      "execution_count": null,
      "outputs": [
        {
          "output_type": "stream",
          "name": "stdout",
          "text": [
            "Texto original:\n",
            "A RMN cerebral mostrou hipersinal T2 nos gânglios da base (caudado e putámen), sem alterações em T1 e restrição à difusão no caudado, núcleo lenticular e mesencéfalo.\n",
            "\n",
            "Texto sem stop words:\n",
            "RMN cerebral mostrou hipersinal T2 gânglios base ( caudado putámen ) , alterações T1 restrição difusão caudado , núcleo lenticular mesencéfalo .\n"
          ]
        }
      ]
    },
    {
      "cell_type": "markdown",
      "metadata": {
        "id": "WwbC0pw6i33K"
      },
      "source": [
        "> **IMPORTANTE**: Em alguns casos retirar as palavras referentes a negação (i.e., não) pode retirar um significado semântico muito importante do texto. Por exemplo, no texto: \"*O paciente não apresenta sintomas da doença*\". Neste caso a negação muda completamente o sentido da frase. Existem alguns outros casos (principalmente quando utilizamos *Deep Learning*) em que **a retirada das stop-words pode ser prejudicial ao algoritmo**, portanto, sempre teste seus algoritmos com e sem esta opção!"
      ]
    },
    {
      "cell_type": "markdown",
      "metadata": {
        "id": "GW1-WRb7jG6R"
      },
      "source": [
        "##### Normalização\n",
        "Além do *Stemming*, é possível realizar processos mais específicos de normalização do texto, de acordo com a tarefa.\n",
        "\n",
        "> **Exemplo 1**: O texto bruto pode estar escrito como \"O preço inicial é de 23 reais, podendo chegar a mil\". Em determinadas situações, é mais interessante que o texto seja normalizado para: \"O preço inicial é de vinte e três reais, podendo chegar a mil\"\n",
        "\n",
        "> **Exemplo 2**: Todas as datas serem normalizadas para um padrão único. As formas \"18/mai\", \"dezoito de maio\", \"18-05\" serem normalizadas para \"18/05\".\n",
        "\n",
        "> **Exemplo 3**: Todas diferentes menções a uma mesma doença em um texto serem representadas por um texto único. Por exemplo, \"HAS\", \"H.A.S.\", \"Hipertensão\", \"Hipertensão Arterial\", \"hipertensão arterial sistêmica\", \"paciente hipertensivo\".\n",
        "\n",
        "Uma maneira simples de normalizar o texto é transformar todas as letras em minúsculas, assim ocorrências escritas de maneira diferente são normalizadas para uma única. \"Brasil\", \"BraSil\" e \"BRAsil\" seriam normalizadas para \"brasil\"."
      ]
    },
    {
      "cell_type": "code",
      "metadata": {
        "id": "mOPCOVYzjo2M",
        "colab": {
          "base_uri": "https://localhost:8080/"
        },
        "outputId": "216dba9b-3798-401b-b29c-61e104d3f440"
      },
      "source": [
        "texto2 = \"Se escreve LOL, LoL ou Lol?\"\n",
        "\n",
        "# Efetua lowercase\n",
        "texto2 = texto2.lower()\n",
        "\n",
        "# Tokeniza o texto\n",
        "tokenize.word_tokenize(texto2, language='portuguese')"
      ],
      "execution_count": null,
      "outputs": [
        {
          "output_type": "execute_result",
          "data": {
            "text/plain": [
              "['se', 'escreve', 'lol', ',', 'lol', 'ou', 'lol', '?']"
            ]
          },
          "metadata": {},
          "execution_count": 19
        }
      ]
    },
    {
      "cell_type": "markdown",
      "metadata": {
        "id": "DS_ENHCIdLOC"
      },
      "source": [
        "### **2) Reconhecimeno de entidades nomeadas (NER)**\n",
        "\n",
        "O **NER** (do inglês \"*Named Entity Recognition*\") é uma subtarefa de PLN que busca localizar e classificar entidades nomeadas mencionadas em texto não estruturado em categorias predefinidas, como nomes de pessoas, organizações, locais, códigos médicos, expressões de tempo, quantidades, valores monetários, porcentagens, etc.\n",
        "\n",
        "A finalidade do NER é extrair informações relevantes do texto e atribuir um rótulo a cada entidade encontrada. Essa tarefa é útil em diversas aplicações, como análise de sentimentos, resumo automático de textos, tradução automática, extração de informações em documentos, entre outras.\n",
        "\n",
        "Na área clinica, por exemplo, o NER pode ser usado para identificar condições médicas em documentos clínicos, como relatórios de exames, históricos médicos e resumos de alta hospitalar, auxiliando na triagem de pacientes, na detecção precoce de doenças e na pesquisa clínica.\n",
        "\n",
        "Para o NER em textos clínicos, vamos usar um modelo treinado pelo nosso grupo: `pucpr/clinicalnerpt-disorder`, para extrair entidades relacionadas a **desordens** no paciente.\n",
        "\n",
        "Neste exemplo, vamos utilizar *Machine Learning* (ML) para o reconhecimento das entidades nomeadas, mais especificamente *deep learning* e arquitetura *Transformer*.\n",
        "\n",
        "#### **O que é *Machine Learning*?**\n",
        "\n",
        "É uma área da Inteligência Artificial que provê a sistemas a habilidade de **automaticamente aprender tarefas sem que seja explicitamente programada para tal**.\n",
        "\n",
        "> **OBSERVAÇÃO**: Atualmente muitos dos modelos estado da arte fazem uso dos [Transformers](https://huggingface.co/transformers/), que disponibilizam uma série de arquiteturas para processamento de textos."
      ]
    },
    {
      "cell_type": "markdown",
      "source": [
        "##### **Executando a tarefa de NER**\n",
        "Vamos utilizar um modelo de NER treinado pelo nosso grupo HAILab, usando arquitetura Transformer: `pucpr-br/postagger-bio-portuguese`\n",
        "\n",
        "> **OBSERVAÇÃO**: Para mais modelos disponibilizados pelo nosso grupo, acesse: https://huggingface.co/pucpr e https://huggingface.co/pucpr-br.\n",
        "\n",
        "Primeiro, precisamos instalar a biblioteca `transformers`, do grupo *Hugging Faces*, para importar o modelo e executar as tarefas.  \n",
        "\n",
        "Vamos usar `pipeline`, objetos da biblioteca que abstraem a complexidade do código e oferecem uma API para várias tarefas, como NER, análise de sentimentos, etc. Para saber mais sobre pipelines: https://www.kaggle.com/code/funtowiczmo/hugging-face-transformers-how-to-use-pipelines"
      ],
      "metadata": {
        "id": "o58uHx4FDSsE"
      }
    },
    {
      "cell_type": "code",
      "source": [
        "!pip3 install transformers\n"
      ],
      "metadata": {
        "id": "b7qdCB_IEEjd",
        "colab": {
          "base_uri": "https://localhost:8080/"
        },
        "outputId": "ad1f2579-2698-4c69-fde0-e32c23e382aa"
      },
      "execution_count": null,
      "outputs": [
        {
          "output_type": "stream",
          "name": "stdout",
          "text": [
            "Collecting transformers\n",
            "  Downloading transformers-4.30.2-py3-none-any.whl (7.2 MB)\n",
            "\u001b[?25l     \u001b[90m━━━━━━━━━━━━━━━━━━━━━━━━━━━━━━━━━━━━━━━━\u001b[0m \u001b[32m0.0/7.2 MB\u001b[0m \u001b[31m?\u001b[0m eta \u001b[36m-:--:--\u001b[0m\r\u001b[2K     \u001b[91m━━━━\u001b[0m\u001b[91m╸\u001b[0m\u001b[90m━━━━━━━━━━━━━━━━━━━━━━━━━━━━━━━━━━━\u001b[0m \u001b[32m0.9/7.2 MB\u001b[0m \u001b[31m33.2 MB/s\u001b[0m eta \u001b[36m0:00:01\u001b[0m\r\u001b[2K     \u001b[91m━━━━━━━━━━━━━━━━━━━━━━━━━━━━━\u001b[0m\u001b[90m╺\u001b[0m\u001b[90m━━━━━━━━━━\u001b[0m \u001b[32m5.2/7.2 MB\u001b[0m \u001b[31m81.1 MB/s\u001b[0m eta \u001b[36m0:00:01\u001b[0m\r\u001b[2K     \u001b[91m━━━━━━━━━━━━━━━━━━━━━━━━━━━━━━━━━━━━━━━\u001b[0m\u001b[91m╸\u001b[0m \u001b[32m7.2/7.2 MB\u001b[0m \u001b[31m90.3 MB/s\u001b[0m eta \u001b[36m0:00:01\u001b[0m\r\u001b[2K     \u001b[90m━━━━━━━━━━━━━━━━━━━━━━━━━━━━━━━━━━━━━━━━\u001b[0m \u001b[32m7.2/7.2 MB\u001b[0m \u001b[31m60.7 MB/s\u001b[0m eta \u001b[36m0:00:00\u001b[0m\n",
            "\u001b[?25hRequirement already satisfied: filelock in /usr/local/lib/python3.10/dist-packages (from transformers) (3.12.2)\n",
            "Collecting huggingface-hub<1.0,>=0.14.1 (from transformers)\n",
            "  Downloading huggingface_hub-0.15.1-py3-none-any.whl (236 kB)\n",
            "\u001b[2K     \u001b[90m━━━━━━━━━━━━━━━━━━━━━━━━━━━━━━━━━━━━━━\u001b[0m \u001b[32m236.8/236.8 kB\u001b[0m \u001b[31m26.6 MB/s\u001b[0m eta \u001b[36m0:00:00\u001b[0m\n",
            "\u001b[?25hRequirement already satisfied: numpy>=1.17 in /usr/local/lib/python3.10/dist-packages (from transformers) (1.22.4)\n",
            "Requirement already satisfied: packaging>=20.0 in /usr/local/lib/python3.10/dist-packages (from transformers) (23.1)\n",
            "Requirement already satisfied: pyyaml>=5.1 in /usr/local/lib/python3.10/dist-packages (from transformers) (6.0)\n",
            "Requirement already satisfied: regex!=2019.12.17 in /usr/local/lib/python3.10/dist-packages (from transformers) (2022.10.31)\n",
            "Requirement already satisfied: requests in /usr/local/lib/python3.10/dist-packages (from transformers) (2.27.1)\n",
            "Collecting tokenizers!=0.11.3,<0.14,>=0.11.1 (from transformers)\n",
            "  Downloading tokenizers-0.13.3-cp310-cp310-manylinux_2_17_x86_64.manylinux2014_x86_64.whl (7.8 MB)\n",
            "\u001b[2K     \u001b[90m━━━━━━━━━━━━━━━━━━━━━━━━━━━━━━━━━━━━━━━━\u001b[0m \u001b[32m7.8/7.8 MB\u001b[0m \u001b[31m114.4 MB/s\u001b[0m eta \u001b[36m0:00:00\u001b[0m\n",
            "\u001b[?25hCollecting safetensors>=0.3.1 (from transformers)\n",
            "  Downloading safetensors-0.3.1-cp310-cp310-manylinux_2_17_x86_64.manylinux2014_x86_64.whl (1.3 MB)\n",
            "\u001b[2K     \u001b[90m━━━━━━━━━━━━━━━━━━━━━━━━━━━━━━━━━━━━━━━━\u001b[0m \u001b[32m1.3/1.3 MB\u001b[0m \u001b[31m81.4 MB/s\u001b[0m eta \u001b[36m0:00:00\u001b[0m\n",
            "\u001b[?25hRequirement already satisfied: tqdm>=4.27 in /usr/local/lib/python3.10/dist-packages (from transformers) (4.65.0)\n",
            "Requirement already satisfied: fsspec in /usr/local/lib/python3.10/dist-packages (from huggingface-hub<1.0,>=0.14.1->transformers) (2023.6.0)\n",
            "Requirement already satisfied: typing-extensions>=3.7.4.3 in /usr/local/lib/python3.10/dist-packages (from huggingface-hub<1.0,>=0.14.1->transformers) (4.6.3)\n",
            "Requirement already satisfied: urllib3<1.27,>=1.21.1 in /usr/local/lib/python3.10/dist-packages (from requests->transformers) (1.26.16)\n",
            "Requirement already satisfied: certifi>=2017.4.17 in /usr/local/lib/python3.10/dist-packages (from requests->transformers) (2023.5.7)\n",
            "Requirement already satisfied: charset-normalizer~=2.0.0 in /usr/local/lib/python3.10/dist-packages (from requests->transformers) (2.0.12)\n",
            "Requirement already satisfied: idna<4,>=2.5 in /usr/local/lib/python3.10/dist-packages (from requests->transformers) (3.4)\n",
            "Installing collected packages: tokenizers, safetensors, huggingface-hub, transformers\n",
            "Successfully installed huggingface-hub-0.15.1 safetensors-0.3.1 tokenizers-0.13.3 transformers-4.30.2\n"
          ]
        }
      ]
    },
    {
      "cell_type": "code",
      "source": [
        "# importanto as funcoes necessarias\n",
        "from transformers import AutoTokenizer, AutoModelForTokenClassification, pipeline\n",
        "\n",
        "# importanto o tokenizador e o modelo de NER\n",
        "model = AutoModelForTokenClassification.from_pretrained(\"pucpr/clinicalnerpt-disorder\")\n",
        "tokenizer = AutoTokenizer.from_pretrained('pucpr/clinicalnerpt-disorder')\n",
        "\n",
        "nlp_token_class = pipeline('token-classification', model=model, tokenizer=tokenizer, grouped_entities=True)\n"
      ],
      "metadata": {
        "id": "fXlyHXucGXUY",
        "colab": {
          "base_uri": "https://localhost:8080/",
          "height": 232,
          "referenced_widgets": [
            "b2e34896b2bc4bf9ab7cd6fe5bf04724",
            "5302fef8d4c94a3094e35b421f5ce17a",
            "e4e4e07bc42a4712b934e3fd88950aa9",
            "ffbcfd480f344df18339e99de5d154f1",
            "ee13fa984dca4498812332599a3f1796",
            "15824ff119b84be4ab294343d1af6ba0",
            "4ef58a7cc40b449894fab1cbb89b5ab2",
            "534f14f5c0d74cc4a049284b767a21fa",
            "2cc3fe4aa84148338d8c906bcf5dbe0b",
            "ee0c81338e5544309e3d09a65b5075c8",
            "830dbeba8bed46acb7049507f4b3740e",
            "505e7f0373b34a12ace78303e2c971d7",
            "70ec2e6c3c2943239c0de6f4d57cebef",
            "642403c7e5bc4adead6a080b67d06ae3",
            "4e71d9928d7b4a27aaf0791072ab61b9",
            "4f92af33ca23480988c96800aa920a67",
            "1e76474fae8140fda2bb04ec3e95273d",
            "99917b83edba4d4e9bd090d783da13e4",
            "9fcd8147443f45768ecf2717e2fdf68d",
            "fe8b18a0426845eabec4a78480908f97",
            "10b9c4946c5d4568b5cd17d469c9c45d",
            "9dbc60f95d9b4708a849b14b19dc340c",
            "911a3b3f46b44cda9c8562d61e1baa8e",
            "07aa50790e5c422586d726212c00df50",
            "fbc83338841d4e0ab6b87105062f6e7e",
            "61d144a438d54889b3544d76533b0e85",
            "e60f45eb962f4633976dc9a7cd737ffe",
            "8e67110965274bb7b2ad00cb41db40a2",
            "418e0e61bd16458ba0cc2e24b96847af",
            "75ec98d556d94daeae4fa1789927246a",
            "07a83c5be79a41bf83b583f4c1b5402f",
            "23d0bfb6c3bf474d8d343d662057bdb8",
            "b5dd2a361dde4ee882ab0d3fdabf3b94",
            "2345760cd6f34e6a99239f3153a0fc46",
            "76d120a8ec13404dbb5dfd84633dfb85",
            "4ff037c6d2054d39b3ef828373dcb2f9",
            "1d59d9bd9389419aa984775137dae140",
            "bf6c67b3f83f4a369f96ed30c34c779d",
            "749989c6ea52412b83cf2f2fde245452",
            "58c3a22a8c574e2f9316648f53a3df30",
            "f52e3554f01b4d0c99a923354fc60356",
            "a1a1114b714041508a0d065aaffc78ac",
            "f8334c2b2b3c4014af666f7ed9324739",
            "a5c713dc832c47af88cd8377c4a9377b",
            "6fa10aba20934a6d82c89720cf66ccbd",
            "d4368f8e2001481e8c08fe368d566f97",
            "a0bf3e00076a4caf8e62b3e2e0ba87b1",
            "a670bf987d2843a0ad9110cc4223283f",
            "4b500e9bbca1437a99439add72ac2f6f",
            "f8d6c1aeb9324c56826d0266249fbcf4",
            "c4cc6fe14f9d4a7296ab645f729c47c4",
            "82f8fcc1df32461bae164ccaa32ef393",
            "424ebfe51d9b480dbf3ce480a50c6439",
            "8df59e9d17aa42b79bdfab40dc0719ef",
            "3bfe18f53081479c89cb5ea12341ef10"
          ]
        },
        "outputId": "4244b447-8053-412e-b0b2-825d2d291633"
      },
      "execution_count": null,
      "outputs": [
        {
          "output_type": "display_data",
          "data": {
            "text/plain": [
              "Downloading (…)lve/main/config.json:   0%|          | 0.00/1.03k [00:00<?, ?B/s]"
            ],
            "application/vnd.jupyter.widget-view+json": {
              "version_major": 2,
              "version_minor": 0,
              "model_id": "b2e34896b2bc4bf9ab7cd6fe5bf04724"
            }
          },
          "metadata": {}
        },
        {
          "output_type": "display_data",
          "data": {
            "text/plain": [
              "Downloading pytorch_model.bin:   0%|          | 0.00/709M [00:00<?, ?B/s]"
            ],
            "application/vnd.jupyter.widget-view+json": {
              "version_major": 2,
              "version_minor": 0,
              "model_id": "505e7f0373b34a12ace78303e2c971d7"
            }
          },
          "metadata": {}
        },
        {
          "output_type": "display_data",
          "data": {
            "text/plain": [
              "Downloading (…)okenizer_config.json:   0%|          | 0.00/151 [00:00<?, ?B/s]"
            ],
            "application/vnd.jupyter.widget-view+json": {
              "version_major": 2,
              "version_minor": 0,
              "model_id": "911a3b3f46b44cda9c8562d61e1baa8e"
            }
          },
          "metadata": {}
        },
        {
          "output_type": "display_data",
          "data": {
            "text/plain": [
              "Downloading (…)solve/main/vocab.txt:   0%|          | 0.00/996k [00:00<?, ?B/s]"
            ],
            "application/vnd.jupyter.widget-view+json": {
              "version_major": 2,
              "version_minor": 0,
              "model_id": "2345760cd6f34e6a99239f3153a0fc46"
            }
          },
          "metadata": {}
        },
        {
          "output_type": "display_data",
          "data": {
            "text/plain": [
              "Downloading (…)cial_tokens_map.json:   0%|          | 0.00/112 [00:00<?, ?B/s]"
            ],
            "application/vnd.jupyter.widget-view+json": {
              "version_major": 2,
              "version_minor": 0,
              "model_id": "6fa10aba20934a6d82c89720cf66ccbd"
            }
          },
          "metadata": {}
        },
        {
          "output_type": "stream",
          "name": "stderr",
          "text": [
            "/usr/local/lib/python3.10/dist-packages/transformers/pipelines/token_classification.py:169: UserWarning: `grouped_entities` is deprecated and will be removed in version v5.0.0, defaulted to `aggregation_strategy=\"simple\"` instead.\n",
            "  warnings.warn(\n"
          ]
        }
      ]
    },
    {
      "cell_type": "code",
      "source": [
        "textos[:2]"
      ],
      "metadata": {
        "id": "R7Vf-47-IuAx",
        "colab": {
          "base_uri": "https://localhost:8080/"
        },
        "outputId": "4fdb08c2-0770-40dd-9b70-f51deabe6895"
      },
      "execution_count": null,
      "outputs": [
        {
          "output_type": "execute_result",
          "data": {
            "text/plain": [
              "['Adolescente de 13 anos com DW com confirmação genética e apresentação neurológica por doença de movimento (parkinsonismo e distonia) com agravamento progressivo, sem evidência clínica ou analítica de atingimento hepático. A biópsia hepática apresentava infiltrado inflamatório e sinais de hepatopatia crónica, sem cirrose. A RMN cerebral mostrou hipersinal T2 nos gânglios da base (caudado e putámen), sem alterações em T1 e restrição à difusão no caudado, núcleo lenticular e mesencéfalo. O início do tratamento com penicilamina despoletou uma progressiva deterioração neurológica sem estabilização após 11 meses de follow-up.',\n",
              " 'Homem de 65 anos, com antecedentes de diabetes mellitus tipo 2 controlada, com quadro de 3 meses de evolução caracterizado por tosse não produtiva, mialgias, febre, anorexia e perda de peso. Apresenta posteriormente agravamento com quadro de confusão mental com 4 dias de evolução, razão pela qual recorre ao Serviço de Urgência. À observação, febril (38.5ºC), lentificação psico-motora, desorientação temporal, com compromisso da atenção e da memória de trabalho. Sem sinais meníngeos ou outras alterações ao exame neurológico. Sem alterações em TC-CE, realizou-se punção lombar, pressão de abertura de 18 cm H2O, com documentação de pleocitose de predomínio mononuclear (73 células/µl), hipoglicorráquia de 52 mg/dL (26% da capilar) e hiperproteinorraquia (93 mg/dL). Pesquisa de bacilos álcool- -ácido resistentes (BAAR) e exame bacteriológico do LCR negativos. RM-CE identificou múltiplas lesões parenquimatosas supra e infra-tentoriais hiperintensas em T2/FLAIR, com captação anelar de gadolínio. Iniciada terapêutica empírica para meningoencefalite tuberculosa com isoniazida, rifampicina, pirazinamida e etambutol, com confirmação diagnóstica posterior após identificação de Mycobacterium tuberculosis no LCR por PCR e exame cultural. A observação de fundo ocular por lâmpada de fenda permitiu identificar a presença de tubérculo coroideu esquerdo.']"
            ]
          },
          "metadata": {},
          "execution_count": 22
        }
      ]
    },
    {
      "cell_type": "code",
      "source": [
        "resultadoNER = nlp_token_class(textos[0])\n",
        "resultadoNER"
      ],
      "metadata": {
        "id": "TSH1XV2-IqdR",
        "colab": {
          "base_uri": "https://localhost:8080/"
        },
        "outputId": "dd01a603-e451-4377-9df5-781b78888bd4"
      },
      "execution_count": null,
      "outputs": [
        {
          "output_type": "execute_result",
          "data": {
            "text/plain": [
              "[{'entity_group': 'Disorder',\n",
              "  'score': 0.91563916,\n",
              "  'word': 'd',\n",
              "  'start': 27,\n",
              "  'end': 28},\n",
              " {'entity_group': 'Disorder',\n",
              "  'score': 0.8767578,\n",
              "  'word': '##w',\n",
              "  'start': 28,\n",
              "  'end': 29},\n",
              " {'entity_group': 'Disorder',\n",
              "  'score': 0.99879646,\n",
              "  'word': 'doen',\n",
              "  'start': 86,\n",
              "  'end': 90},\n",
              " {'entity_group': 'Disorder',\n",
              "  'score': 0.9971208,\n",
              "  'word': '##ca de movimento',\n",
              "  'start': 90,\n",
              "  'end': 105},\n",
              " {'entity_group': 'Disorder',\n",
              "  'score': 0.9470548,\n",
              "  'word': 'park',\n",
              "  'start': 107,\n",
              "  'end': 111},\n",
              " {'entity_group': 'Disorder',\n",
              "  'score': 0.9611911,\n",
              "  'word': '##ins',\n",
              "  'start': 111,\n",
              "  'end': 114},\n",
              " {'entity_group': 'Disorder',\n",
              "  'score': 0.97013456,\n",
              "  'word': '##onis',\n",
              "  'start': 114,\n",
              "  'end': 118},\n",
              " {'entity_group': 'Disorder',\n",
              "  'score': 0.96701217,\n",
              "  'word': '##mo',\n",
              "  'start': 118,\n",
              "  'end': 120},\n",
              " {'entity_group': 'Disorder',\n",
              "  'score': 0.9953015,\n",
              "  'word': 'dis',\n",
              "  'start': 123,\n",
              "  'end': 126},\n",
              " {'entity_group': 'Disorder',\n",
              "  'score': 0.9963064,\n",
              "  'word': '##toni',\n",
              "  'start': 126,\n",
              "  'end': 130},\n",
              " {'entity_group': 'Disorder',\n",
              "  'score': 0.99424183,\n",
              "  'word': '##a',\n",
              "  'start': 130,\n",
              "  'end': 131},\n",
              " {'entity_group': 'Disorder',\n",
              "  'score': 0.99630034,\n",
              "  'word': 'ag',\n",
              "  'start': 137,\n",
              "  'end': 139},\n",
              " {'entity_group': 'Disorder',\n",
              "  'score': 0.9961333,\n",
              "  'word': '##rava',\n",
              "  'start': 139,\n",
              "  'end': 143},\n",
              " {'entity_group': 'Disorder',\n",
              "  'score': 0.9955451,\n",
              "  'word': '##mento progressivo',\n",
              "  'start': 143,\n",
              "  'end': 160},\n",
              " {'entity_group': 'Disorder',\n",
              "  'score': 0.79699856,\n",
              "  'word': 'ati',\n",
              "  'start': 200,\n",
              "  'end': 203},\n",
              " {'entity_group': 'Disorder',\n",
              "  'score': 0.80836743,\n",
              "  'word': '##ngi',\n",
              "  'start': 203,\n",
              "  'end': 206},\n",
              " {'entity_group': 'Disorder',\n",
              "  'score': 0.96198547,\n",
              "  'word': '##mento hepatico',\n",
              "  'start': 206,\n",
              "  'end': 220},\n",
              " {'entity_group': 'Disorder',\n",
              "  'score': 0.9967169,\n",
              "  'word': 'hep',\n",
              "  'start': 289,\n",
              "  'end': 292},\n",
              " {'entity_group': 'Disorder',\n",
              "  'score': 0.9954027,\n",
              "  'word': '##ato',\n",
              "  'start': 292,\n",
              "  'end': 295},\n",
              " {'entity_group': 'Disorder',\n",
              "  'score': 0.9960437,\n",
              "  'word': '##pati',\n",
              "  'start': 295,\n",
              "  'end': 299},\n",
              " {'entity_group': 'Disorder',\n",
              "  'score': 0.9939756,\n",
              "  'word': '##a cronica',\n",
              "  'start': 299,\n",
              "  'end': 308},\n",
              " {'entity_group': 'Disorder',\n",
              "  'score': 0.98395294,\n",
              "  'word': 'ci',\n",
              "  'start': 314,\n",
              "  'end': 316},\n",
              " {'entity_group': 'Disorder',\n",
              "  'score': 0.9726026,\n",
              "  'word': '##rro',\n",
              "  'start': 316,\n",
              "  'end': 319},\n",
              " {'entity_group': 'Disorder',\n",
              "  'score': 0.9837789,\n",
              "  'word': '##se',\n",
              "  'start': 319,\n",
              "  'end': 321},\n",
              " {'entity_group': 'Disorder',\n",
              "  'score': 0.67626923,\n",
              "  'word': 'neurologica',\n",
              "  'start': 570,\n",
              "  'end': 581}]"
            ]
          },
          "metadata": {},
          "execution_count": 23
        }
      ]
    },
    {
      "cell_type": "markdown",
      "metadata": {
        "id": "kaHTarMpV5x9"
      },
      "source": [
        "##### Formatando a saida\n",
        "Como o nosso tokenizador (*WordPiece Tokenizer*) divide as palavras em *sub-tokens* pelo seu significado básico + complemento, adicionando \"##\" no inicio da sub-palavra, vamos criar uma função para juntar as palavras novamente."
      ]
    },
    {
      "cell_type": "code",
      "source": [
        "def get_entities(ner_output):\n",
        "    entities = []\n",
        "    current_entity = \"\"\n",
        "\n",
        "    for i, item in enumerate(ner_output):\n",
        "        entity_word = item['word']\n",
        "        if entity_word.startswith(\"##\"):\n",
        "          continue\n",
        "        current_entity = entity_word\n",
        "        next_word_index = i + 1\n",
        "\n",
        "        for j in range(i, len(ner_output)-1):\n",
        "          next_word_index2 = j + 1\n",
        "          if ner_output[next_word_index2]['word'].startswith(\"##\"):\n",
        "            current_entity += ner_output[next_word_index2]['word'][2:]\n",
        "          else:\n",
        "            if current_entity:\n",
        "                  entities.append(current_entity)\n",
        "            break\n",
        "\n",
        "    if current_entity:\n",
        "      entities.append(current_entity)\n",
        "      current_entity = \"\"\n",
        "\n",
        "    return entities"
      ],
      "metadata": {
        "id": "GqIlHBzXKPUl"
      },
      "execution_count": null,
      "outputs": []
    },
    {
      "cell_type": "code",
      "source": [
        "entity_words = get_entities(resultadoNER)\n",
        "print(\"Entidades do tipo DISORDER encontradas no texto:\")\n",
        "print(entity_words)"
      ],
      "metadata": {
        "id": "f6Uuq_1ZKSa-",
        "colab": {
          "base_uri": "https://localhost:8080/"
        },
        "outputId": "d5db80f7-5f88-4efd-bcef-77ea2adffb5a"
      },
      "execution_count": null,
      "outputs": [
        {
          "output_type": "stream",
          "name": "stdout",
          "text": [
            "Entidades do tipo DISORDER encontradas no texto:\n",
            "['dw', 'doenca de movimento', 'parkinsonismo', 'distonia', 'agravamento progressivo', 'atingimento hepatico', 'hepatopatia cronica', 'cirrose', 'neurologica']\n"
          ]
        }
      ]
    },
    {
      "cell_type": "markdown",
      "metadata": {
        "id": "Es2NJ8TNXkhF"
      },
      "source": [
        "> **Por que não utilizar um modelo generalista, treinado por ex em textos jornalísticos?**\n",
        "Por mais que os modelos generalistas tenham sido treinados com volumes maiores de dados, eles têm diversas características diferentes dos textos clínicos, bem como, um vocabulário diferente, fazendo com que o desempenho do modelo seja muito baixo em textos especializados em algum assunto, como é o texto clínico.\n",
        "\n",
        "> **OBSERVAÇÃO**: Você poderia optar pela utilização de outras ferramentas de *Machine Learning* para usar ou mesmo treinar um modelo de NER, como o [scikit-learn](https://scikit-learn.org/stable/) e [Flair](https://github.com/flairNLP/flair)."
      ]
    },
    {
      "cell_type": "markdown",
      "metadata": {
        "id": "kJzxk1sedLtS"
      },
      "source": [
        "### **3) Explorando um modelo Word2vec treinado com *twittes* brasileiros sobre Covid-19**\n",
        "Agora vamos explorar um modelo Word2Vec treinado pelo nosso grupo, usando *twittes* brasileiros sobre a Covid-19. Para ler mais sobre o trabalho, acesse: https://jhi.sbis.org.br/index.php/jhi-sbis/article/view/842\n",
        "\n",
        "Para ter acesso ao código com mais exemplos, acesse: https://github.com/HAILab-PUCPR/Word2Vec-COVID19-Twitter\n",
        "\n",
        "![picture](https://github.com/HAILab-PUCPR/Word2Vec-COVID19-Twitter/blob/master/nuvem-tags.jpg?raw=true)\n",
        "\n"
      ]
    },
    {
      "cell_type": "markdown",
      "metadata": {
        "id": "qjCuVNWYtHGr"
      },
      "source": [
        "#### Baixando o modelo W2V\n",
        "\n"
      ]
    },
    {
      "cell_type": "code",
      "source": [
        "!curl -L -o 'word2vec_tweets.bin' 'https://drive.google.com/uc?export=download&id=1VEL--MvQW49WDaf1_m3K7D9M60FD_N8D'"
      ],
      "metadata": {
        "id": "WYQLYv36QH6C",
        "colab": {
          "base_uri": "https://localhost:8080/"
        },
        "outputId": "6eb66144-a8fd-4aba-d1a6-46cd7a96a0f1"
      },
      "execution_count": null,
      "outputs": [
        {
          "output_type": "stream",
          "name": "stdout",
          "text": [
            "  % Total    % Received % Xferd  Average Speed   Time    Time     Time  Current\n",
            "                                 Dload  Upload   Total   Spent    Left  Speed\n",
            "  0     0    0     0    0     0      0      0 --:--:--  0:00:04 --:--:--     0\n",
            "100 92.6M  100 92.6M    0     0  16.5M      0  0:00:05  0:00:05 --:--:--  131M\n"
          ]
        }
      ]
    },
    {
      "cell_type": "code",
      "source": [
        "!ls"
      ],
      "metadata": {
        "id": "1COh1U77QJIG",
        "colab": {
          "base_uri": "https://localhost:8080/"
        },
        "outputId": "e2029c32-4718-4a98-f31d-aafa82a0cf87"
      },
      "execution_count": null,
      "outputs": [
        {
          "output_type": "stream",
          "name": "stdout",
          "text": [
            "PortugueseClinicalNER  sample_data  word2vec_tweets.bin\n"
          ]
        }
      ]
    },
    {
      "cell_type": "markdown",
      "source": [
        "Vamos utilizar a biblioteca `gensim`, amplamente utilizada para modelagem de tópicos, similaridade entre documentos, transformação de texto e modelos de incorporação de palavras.\n",
        "\n",
        "O `Gensim` suporta a criação e o treinamento de modelos de incorporação de palavras, como o Word2Vec e o Doc2Vec, que podem ser usadas para várias tarefas de PLN, como análise de sentimento, classificação de documentos e identificação de palavras similares.\n"
      ],
      "metadata": {
        "id": "h3kwq9xVjTdf"
      }
    },
    {
      "cell_type": "code",
      "source": [
        "from gensim.models import KeyedVectors\n",
        "\n",
        "# Carregar o modelo Word2Vec binário\n",
        "model = KeyedVectors.load_word2vec_format(\"word2vec_tweets.bin\", binary=True)\n"
      ],
      "metadata": {
        "id": "UAaW-avZWp2e"
      },
      "execution_count": null,
      "outputs": []
    },
    {
      "cell_type": "markdown",
      "source": [
        "Buscando palavras similares"
      ],
      "metadata": {
        "id": "Xcf3bsJcYVOi"
      }
    },
    {
      "cell_type": "code",
      "source": [
        "model.most_similar(positive=['covid'], topn=20)\n"
      ],
      "metadata": {
        "id": "ob5CTAvHYOev",
        "colab": {
          "base_uri": "https://localhost:8080/"
        },
        "outputId": "a5d90ab6-e5da-4e9b-b6f1-bbb5d1343bae"
      },
      "execution_count": null,
      "outputs": [
        {
          "output_type": "execute_result",
          "data": {
            "text/plain": [
              "[('coronavirus', 0.8442822694778442),\n",
              " ('Covid', 0.7996824979782104),\n",
              " ('covid.', 0.7172111868858337),\n",
              " ('cov', 0.7085482478141785),\n",
              " ('COVID', 0.6961955428123474),\n",
              " ('corona_virus', 0.6780412793159485),\n",
              " ('corona', 0.6579604148864746),\n",
              " ('Coronavirus', 0.6548892259597778),\n",
              " ('covid...', 0.6536855697631836),\n",
              " ('covi', 0.6502013206481934),\n",
              " ('Corona_Virus', 0.6478165984153748),\n",
              " ('coronavirus...', 0.6453582048416138),\n",
              " ('corona_virus.', 0.6387130618095398),\n",
              " ('Covid.', 0.6371161937713623),\n",
              " ('coronavirus.', 0.6351439356803894),\n",
              " ('covid?', 0.634706974029541),\n",
              " ('Corona_virus', 0.6235688924789429),\n",
              " ('coron', 0.5937241315841675),\n",
              " ('coro', 0.587263822555542),\n",
              " ('doenca', 0.5840329527854919)]"
            ]
          },
          "metadata": {},
          "execution_count": 29
        }
      ]
    },
    {
      "cell_type": "code",
      "source": [
        "model.most_similar(positive=['enxaqueca'], topn=20)\n"
      ],
      "metadata": {
        "id": "9NISef_GYZyF",
        "colab": {
          "base_uri": "https://localhost:8080/"
        },
        "outputId": "19d4f7a0-c4b1-47a2-9b21-52b9d5e1cddd"
      },
      "execution_count": null,
      "outputs": [
        {
          "output_type": "execute_result",
          "data": {
            "text/plain": [
              "[('ansiedade', 0.5865851044654846),\n",
              " ('alergia', 0.55230313539505),\n",
              " ('crise_alergica', 0.5322316288948059),\n",
              " ('rinite', 0.5309249758720398),\n",
              " ('sinusite', 0.5242369771003723),\n",
              " ('colica', 0.5206822156906128),\n",
              " ('dor', 0.4971705973148346),\n",
              " ('ansiedade.', 0.49190571904182434),\n",
              " ('gastrite', 0.4848136305809021),\n",
              " ('amigdalite', 0.4826139211654663),\n",
              " ('renite', 0.47357383370399475),\n",
              " ('refluxo', 0.46765759587287903),\n",
              " ('febre', 0.4607495367527008),\n",
              " ('insonia', 0.4539395272731781),\n",
              " ('tpm', 0.4536483585834503),\n",
              " ('asma', 0.4515649676322937),\n",
              " ('tosse_seca', 0.45089566707611084),\n",
              " ('crise_existencial', 0.4400123357772827),\n",
              " ('asmatica', 0.43962305784225464),\n",
              " ('alergica', 0.4376436769962311)]"
            ]
          },
          "metadata": {},
          "execution_count": 30
        }
      ]
    },
    {
      "cell_type": "code",
      "source": [
        "model.most_similar(positive=['vacina'], topn=20)\n"
      ],
      "metadata": {
        "id": "STXCSrH5Yc4L",
        "colab": {
          "base_uri": "https://localhost:8080/"
        },
        "outputId": "6e32c04e-65ba-4e44-b5df-24d263e4ab33"
      },
      "execution_count": null,
      "outputs": [
        {
          "output_type": "execute_result",
          "data": {
            "text/plain": [
              "[('vacina_contra', 0.8123534917831421),\n",
              " ('vacina_pro', 0.7428391575813293),\n",
              " ('vacina.', 0.6893975734710693),\n",
              " ('cura', 0.6615239977836609),\n",
              " ('Vacina', 0.6016098856925964),\n",
              " ('vacina?', 0.5801373720169067),\n",
              " ('cura_pro', 0.5537213683128357),\n",
              " ('vacinas', 0.5207374095916748),\n",
              " ('vac', 0.5135458111763),\n",
              " ('vacin', 0.4958423376083374),\n",
              " ('vacina...', 0.49168628454208374),\n",
              " ('vaci', 0.483140230178833),\n",
              " ('vacina_chinesa', 0.4786967933177948),\n",
              " ('Vacina_contra', 0.47071388363838196),\n",
              " ('remedio', 0.4576752185821533),\n",
              " ('vacina!', 0.44519132375717163),\n",
              " ('anticorpos', 0.4302246868610382),\n",
              " ('anticorpo', 0.42934349179267883),\n",
              " ('anticorpo_eficaz', 0.4280613660812378),\n",
              " ('medicacao', 0.42788663506507874)]"
            ]
          },
          "metadata": {},
          "execution_count": 31
        }
      ]
    },
    {
      "cell_type": "code",
      "source": [
        "model.most_similar(positive=['cloroquina'], topn=20)\n"
      ],
      "metadata": {
        "id": "Ipb0EytZYfEO",
        "colab": {
          "base_uri": "https://localhost:8080/"
        },
        "outputId": "af8a6cb7-7d44-469a-f00f-baeeeb9f633b"
      },
      "execution_count": null,
      "outputs": [
        {
          "output_type": "execute_result",
          "data": {
            "text/plain": [
              "[('Cloroquina', 0.9237001538276672),\n",
              " ('hidroxicloroquina', 0.8887606263160706),\n",
              " ('Hidroxicloroquina', 0.8367518782615662),\n",
              " ('cloroquina.', 0.7896125912666321),\n",
              " ('cloroquina?', 0.7413284778594971),\n",
              " ('cloroquina!', 0.7372238636016846),\n",
              " ('cloroquina...', 0.7071815133094788),\n",
              " ('Cloroquina.', 0.7057933807373047),\n",
              " ('hidroxicloroquina.', 0.7038278579711914),\n",
              " ('remedio', 0.6733832955360413),\n",
              " ('cloroqui', 0.6718700528144836),\n",
              " ('HCQ', 0.6606883406639099),\n",
              " ('CLOROQUINA', 0.6528093814849854),\n",
              " ('cloroqu', 0.6511754393577576),\n",
              " ('Hidroxicloroquina.', 0.6503738760948181),\n",
              " ('Cloroquina?', 0.6487926244735718),\n",
              " ('cloroquin', 0.6407572031021118),\n",
              " ('medicacao', 0.6388699412345886),\n",
              " ('clor', 0.6387254595756531),\n",
              " ('azitromicina', 0.6380695700645447)]"
            ]
          },
          "metadata": {},
          "execution_count": 32
        }
      ]
    },
    {
      "cell_type": "code",
      "source": [
        "model.most_similar(positive=['bolsonaro'], topn=20)\n"
      ],
      "metadata": {
        "id": "X_6w_UIhaScd",
        "colab": {
          "base_uri": "https://localhost:8080/"
        },
        "outputId": "2a356ec5-b430-449d-a853-eb2568c0e7b0"
      },
      "execution_count": null,
      "outputs": [
        {
          "output_type": "execute_result",
          "data": {
            "text/plain": [
              "[('bozo', 0.8736352324485779),\n",
              " ('biroliro', 0.7642959356307983),\n",
              " ('Bozo', 0.75406414270401),\n",
              " ('Bolsonaro', 0.7218829989433289),\n",
              " ('bonoro', 0.6744195222854614),\n",
              " ('presidente', 0.6403055787086487),\n",
              " ('ele', 0.6385378241539001),\n",
              " ('bozonaro', 0.6303306221961975),\n",
              " ('Biroliro', 0.6025436520576477),\n",
              " ('nosso_presidente', 0.6010631322860718),\n",
              " ('bolsolixo', 0.585766077041626),\n",
              " ('salnorabo', 0.5816051363945007),\n",
              " ('esse_homem', 0.5811737179756165),\n",
              " ('trump', 0.5701310634613037),\n",
              " ('bostonaro', 0.5657585263252258),\n",
              " ('bolsonaro.', 0.549957811832428),\n",
              " ('mito', 0.5496857762336731),\n",
              " ('cara', 0.5403366088867188),\n",
              " ('miliciano', 0.5294407606124878),\n",
              " ('vc', 0.5216509699821472)]"
            ]
          },
          "metadata": {},
          "execution_count": 33
        }
      ]
    },
    {
      "cell_type": "code",
      "source": [
        "model.most_similar(positive=['hipertensao'], topn=20)\n"
      ],
      "metadata": {
        "colab": {
          "base_uri": "https://localhost:8080/"
        },
        "id": "VnqODIcJPCY8",
        "outputId": "0acb4253-c00a-497c-ad36-d05279b96104"
      },
      "execution_count": null,
      "outputs": [
        {
          "output_type": "execute_result",
          "data": {
            "text/plain": [
              "[('diabetes', 0.5345937013626099),\n",
              " ('cardiopatia', 0.526973307132721),\n",
              " ('diabetes_hipertensao', 0.4997483193874359),\n",
              " ('problema_cardiaco', 0.49578699469566345),\n",
              " ('hipertensa', 0.48136430978775024),\n",
              " ('hipertenso', 0.47349655628204346),\n",
              " ('psoriase', 0.4651118814945221),\n",
              " ('pressao_alta', 0.4613089859485626),\n",
              " ('doenca_cronica', 0.4564073085784912),\n",
              " ('comorbidade', 0.4466204047203064),\n",
              " ('problemas_cardiacos', 0.44344663619995117),\n",
              " ('hipertensos', 0.44098711013793945),\n",
              " ('sobrepeso', 0.43912020325660706),\n",
              " ('diabete', 0.4285372197628021),\n",
              " ('diabetico', 0.42610156536102295),\n",
              " ('DPOC', 0.4237419366836548),\n",
              " ('idade_avancada', 0.4208346903324127),\n",
              " ('cancer', 0.41892048716545105),\n",
              " ('diabetica', 0.41527238488197327),\n",
              " ('enfisema', 0.41280341148376465)]"
            ]
          },
          "metadata": {},
          "execution_count": 45
        }
      ]
    },
    {
      "cell_type": "code",
      "source": [
        "model.most_similar(positive=['diabetes'], topn=20)\n"
      ],
      "metadata": {
        "id": "ZBAxmIMLPsJY",
        "outputId": "cdb90895-f364-424e-d0b5-a606f38a67e7",
        "colab": {
          "base_uri": "https://localhost:8080/"
        }
      },
      "execution_count": null,
      "outputs": [
        {
          "output_type": "execute_result",
          "data": {
            "text/plain": [
              "[('diabete', 0.572637677192688),\n",
              " ('hipertensao', 0.5345937609672546),\n",
              " ('diabetes_hipertensao', 0.5322251319885254),\n",
              " ('sobrepeso', 0.5195519924163818),\n",
              " ('comorbidade', 0.5192655920982361),\n",
              " ('cardiopatia', 0.5159457921981812),\n",
              " ('DPOC', 0.5149514079093933),\n",
              " ('pressao_alta', 0.5084439516067505),\n",
              " ('alguma_comorbidade', 0.4888414442539215),\n",
              " ('cancer', 0.4604306221008301),\n",
              " ('trombose', 0.4535661041736603),\n",
              " ('Alzheimer', 0.44834133982658386),\n",
              " ('obesidade', 0.4459187090396881),\n",
              " ('comorbidades', 0.4449557662010193),\n",
              " ('problema_cardiaco', 0.44046324491500854),\n",
              " ('diabetica', 0.43660256266593933),\n",
              " ('Diabetes', 0.43450477719306946),\n",
              " ('doenca_cronica', 0.4337991774082184),\n",
              " ('infarto', 0.43118056654930115),\n",
              " ('problemas_respiratorios', 0.428737074136734)]"
            ]
          },
          "metadata": {},
          "execution_count": 46
        }
      ]
    },
    {
      "cell_type": "code",
      "source": [
        "model.similarity(\"doenca\", 'dor')\n"
      ],
      "metadata": {
        "id": "-98jr4F-YpdI",
        "colab": {
          "base_uri": "https://localhost:8080/"
        },
        "outputId": "7d27b07d-ce70-4993-860b-0ba67faa4927"
      },
      "execution_count": null,
      "outputs": [
        {
          "output_type": "execute_result",
          "data": {
            "text/plain": [
              "0.24872306"
            ]
          },
          "metadata": {},
          "execution_count": 34
        }
      ]
    },
    {
      "cell_type": "code",
      "source": [
        "model.similarity(\"virus\", 'bacteria')\n"
      ],
      "metadata": {
        "id": "eBOjDxAEYuEQ",
        "colab": {
          "base_uri": "https://localhost:8080/"
        },
        "outputId": "e8b366d2-961d-49a9-a0c3-73ffd0159e6c"
      },
      "execution_count": null,
      "outputs": [
        {
          "output_type": "execute_result",
          "data": {
            "text/plain": [
              "0.39860615"
            ]
          },
          "metadata": {},
          "execution_count": 35
        }
      ]
    },
    {
      "cell_type": "code",
      "source": [
        "model.similarity(\"virus\", 'agua')\n"
      ],
      "metadata": {
        "id": "Tnr1qUiPYxl-",
        "colab": {
          "base_uri": "https://localhost:8080/"
        },
        "outputId": "a3c36366-e33a-410c-a25a-2cc92cf2f195"
      },
      "execution_count": null,
      "outputs": [
        {
          "output_type": "execute_result",
          "data": {
            "text/plain": [
              "0.07849422"
            ]
          },
          "metadata": {},
          "execution_count": 36
        }
      ]
    },
    {
      "cell_type": "code",
      "source": [
        "model.doesnt_match(['covid', 'corona', 'oi'])\n"
      ],
      "metadata": {
        "id": "2Z2q3wqcY1OI",
        "colab": {
          "base_uri": "https://localhost:8080/",
          "height": 36
        },
        "outputId": "cf26725d-7633-429f-c003-eed7cb78391f"
      },
      "execution_count": null,
      "outputs": [
        {
          "output_type": "execute_result",
          "data": {
            "text/plain": [
              "'oi'"
            ],
            "application/vnd.google.colaboratory.intrinsic+json": {
              "type": "string"
            }
          },
          "metadata": {},
          "execution_count": 37
        }
      ]
    },
    {
      "cell_type": "markdown",
      "source": [
        "### Analogias\n",
        "Qual palavra está para rainha assim como homem está para rei?"
      ],
      "metadata": {
        "id": "ucGhZSCsZGAk"
      }
    },
    {
      "cell_type": "code",
      "source": [
        "similar_words = model.most_similar(positive=[\"rainha\", \"homem\"], negative=[\"rei\"], topn=1)\n",
        "similar_word = similar_words[0][0]\n",
        "\n",
        "print(similar_word)"
      ],
      "metadata": {
        "id": "-kqhGya8ZoCL",
        "colab": {
          "base_uri": "https://localhost:8080/"
        },
        "outputId": "88fd7fa9-3e64-4abe-c4c1-66a9c603a082"
      },
      "execution_count": null,
      "outputs": [
        {
          "output_type": "stream",
          "name": "stdout",
          "text": [
            "mulher\n"
          ]
        }
      ]
    },
    {
      "cell_type": "code",
      "source": [
        "# Importante! Erros podem acontecer\n",
        "\n",
        "similar_words = model.most_similar(positive=[\"madrid\", \"franca\"], negative=[\"paris\"], topn=1)\n",
        "similar_word = similar_words[0][0]\n",
        "\n",
        "print(similar_word)"
      ],
      "metadata": {
        "id": "CiVVxJREZKLZ",
        "colab": {
          "base_uri": "https://localhost:8080/"
        },
        "outputId": "483b4f7d-e64a-462e-b4e0-4b24264c7f8d"
      },
      "execution_count": null,
      "outputs": [
        {
          "output_type": "stream",
          "name": "stdout",
          "text": [
            "italia\n"
          ]
        }
      ]
    },
    {
      "cell_type": "markdown",
      "metadata": {
        "id": "JeoFcnQm35gl"
      },
      "source": [
        "### **Conclusão**\n",
        "Neste breve tutorial repassamos pelos conceitos básicos de PLN, como operaçõs de pré-processamento de texto, tarefa de **Named Entity Recognition** e **Word2Vec**.\n",
        "\n",
        "Estes scripts podem ser ponto de partida para diversos **Sistemas de Apoio a Decisão em Saúde** que fazem uso de informações contidas em textos clínicos.\n",
        "\n",
        "Você pode encontrar informações adicionais sobre PLN clínico nos *links* a seguir.\n",
        "\n",
        "*   [Language Processing Tools Improve Care Delivery for Providers](https://healthtechmagazine.net/article/2020/05/language-processing-tools-improve-care-delivery-providers)\n",
        "*   [Natural language processing in healthcare](https://www.mckinsey.com/industries/healthcare-systems-and-services/our-insights/natural-language-processing-in-healthcare#)\n",
        "*   [Lessons learned building natural language processing systems in health care](https://www.oreilly.com/content/lessons-learned-building-natural-language-processing-systems-in-health-care/)\n",
        "*   [Introduction to Clinical Natural Language Processing: Predicting Hospital Readmission with Discharge Summaries](https://towardsdatascience.com/introduction-to-clinical-natural-language-processing-predicting-hospital-readmission-with-1736d52bc709)\n",
        "* [List of resources and tools developed with focus on Portuguese](https://github.com/ajdavidl/Portuguese-NLP)\n"
      ]
    },
    {
      "cell_type": "markdown",
      "metadata": {
        "id": "NkpUVAsOZnIq"
      },
      "source": [
        "Este notebook foi produzido por [Elisa Terumi](https://www.linkedin.com/in/elisa-terumi-rubel-schneider/) , tendo como base o material do Prof. Dr. [Lucas Oliveira](http://lattes.cnpq.br/3611246009892500)."
      ]
    }
  ]
}